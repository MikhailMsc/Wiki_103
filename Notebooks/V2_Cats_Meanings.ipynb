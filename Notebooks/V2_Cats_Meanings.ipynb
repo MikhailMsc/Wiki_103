{
 "cells": [
  {
   "cell_type": "code",
   "execution_count": 1,
   "id": "5517505f-4924-4544-b216-69cd79a20068",
   "metadata": {
    "tags": []
   },
   "outputs": [],
   "source": [
    "import pickle\n",
    "import json\n",
    "import sys\n",
    "import re\n",
    "import os\n",
    "import psutil\n",
    "from functools import lru_cache\n",
    "import time\n",
    "\n",
    "from pathlib import Path\n",
    "from tqdm import tqdm\n",
    "\n",
    "from collections import Counter, OrderedDict, namedtuple\n",
    "from functools import reduce\n",
    "\n",
    "import pandas as pd\n",
    "import numpy as np\n",
    "\n",
    "import einops\n",
    "from einops.layers.torch import Rearrange, Reduce\n",
    "\n",
    "import torch\n",
    "from torch import nn\n",
    "import torch.optim as optim\n",
    "from torch.utils.data import Dataset, DataLoader\n",
    "\n",
    "from torchtext.data import get_tokenizer\n",
    "from torchtext.vocab import vocab\n",
    "\n",
    "from random import randint\n",
    "import random\n",
    "\n",
    "\n",
    "from sklearn.model_selection import train_test_split\n",
    "import seaborn as sns\n",
    "from matplotlib import pyplot as plt\n",
    "\n",
    "%matplotlib inline\n",
    "\n",
    "PROJECT_DIR = Path().absolute().parent\n",
    "WIKI_PATH = PROJECT_DIR / 'InputData' / 'wikitext-103'\n",
    "DATA_PATH = PROJECT_DIR / 'Data'\n",
    "\n",
    "sys.path.append(str(PROJECT_DIR))"
   ]
  },
  {
   "cell_type": "code",
   "execution_count": 2,
   "id": "2a8620f7-5ec0-44aa-b4e6-bef4f8d2f6f4",
   "metadata": {},
   "outputs": [],
   "source": [
    "def process_memory():\n",
    "    process = psutil.Process(os.getpid())\n",
    "    print(f'{round(process.memory_info().rss * 10**(-6))} MB')\n",
    "\n",
    "def objects_memory(*args):\n",
    "    print(f'{round(sum([sys.getsizeof(obj) for obj in args]) * 10**(-6))} MB')"
   ]
  },
  {
   "cell_type": "code",
   "execution_count": 3,
   "id": "cc170623-263d-42cb-8382-a59ec16f40cd",
   "metadata": {},
   "outputs": [],
   "source": [
    "def save_pkl(obj, pth):\n",
    "    with open(pth, 'wb') as f:\n",
    "        pickle.dump(obj, f, pickle.HIGHEST_PROTOCOL)\n",
    "\n",
    "\n",
    "def load_pkl(pth):\n",
    "    with open(pth, 'rb') as f:\n",
    "        return pickle.load(f)"
   ]
  },
  {
   "cell_type": "code",
   "execution_count": 4,
   "id": "3f92c814-b7aa-4203-8bfb-f01e1853f5d5",
   "metadata": {},
   "outputs": [],
   "source": [
    "# from tokenizers import (\n",
    "#     decoders,\n",
    "#     models,\n",
    "#     normalizers,\n",
    "#     Regex,\n",
    "#     pre_tokenizers,\n",
    "#     processors,\n",
    "#     trainers,\n",
    "#     Tokenizer,\n",
    "# )\n",
    "from transformers import PreTrainedTokenizerFast"
   ]
  },
  {
   "cell_type": "markdown",
   "id": "5515c0ce-5c5a-4880-983c-a5b8b6b6bf48",
   "metadata": {
    "jp-MarkdownHeadingCollapsed": true,
    "tags": []
   },
   "source": [
    "# Load Data"
   ]
  },
  {
   "cell_type": "code",
   "execution_count": 5,
   "id": "7aba1617-5b15-47d3-8ab4-1b54e7bafe2a",
   "metadata": {},
   "outputs": [],
   "source": [
    "def load_data(tp='train'):\n",
    "    if tp not in ['train', 'test', 'valid']:\n",
    "        raise Exception('ERROR: Wrong type of data.')\n",
    "    \n",
    "    pth = WIKI_PATH / f'wiki.{tp}.raw'\n",
    "    heading_pattern = '\\n (= ){1,}[^=]*[^=] (= ){1,}\\n \\n'\n",
    "    with open(pth, 'r') as f:\n",
    "        raw_text = f.read()\n",
    "    \n",
    "    raw_text = re.split(heading_pattern, raw_text)\n",
    "    raw_text = [x.strip().strip('\\n').strip() for x in raw_text if x and x not in [' ', '= ']]\n",
    "    return raw_text"
   ]
  },
  {
   "cell_type": "code",
   "execution_count": 6,
   "id": "ffe72d18-3d98-4d38-be4b-a73ffb80c0f0",
   "metadata": {},
   "outputs": [
    {
     "name": "stdout",
     "output_type": "stream",
     "text": [
      "271821/623/552\n",
      "CPU times: user 4.89 s, sys: 4.02 s, total: 8.91 s\n",
      "Wall time: 9.39 s\n"
     ]
    }
   ],
   "source": [
    "%%time\n",
    "train_data = load_data('train')\n",
    "test_data = load_data('test')\n",
    "valid_data = load_data('valid')\n",
    "\n",
    "print(f'{len(train_data)}/{len(test_data)}/{len(valid_data)}')"
   ]
  },
  {
   "cell_type": "code",
   "execution_count": 7,
   "id": "236eddb0-6ab8-43fe-a858-2bc500c94fe4",
   "metadata": {},
   "outputs": [],
   "source": [
    "def get_training_corpus():\n",
    "    for i in range(0, len(train_data), 1000):\n",
    "        yield train_data[i : i + 1000]"
   ]
  },
  {
   "cell_type": "markdown",
   "id": "d30db5bc-102f-4cc7-bc21-2903c15e7d45",
   "metadata": {
    "jp-MarkdownHeadingCollapsed": true,
    "tags": []
   },
   "source": [
    "# Build Alphabet"
   ]
  },
  {
   "cell_type": "code",
   "execution_count": 11,
   "id": "a2e71ab6-87b4-4a15-8d2e-3d987cba56ec",
   "metadata": {},
   "outputs": [],
   "source": [
    "tmp_tokenizer = Tokenizer(models.Unigram())\n",
    "tmp_tokenizer.normalizer = normalizers.Sequence(\n",
    "    [\n",
    "        normalizers.Replace(\"``\", '\"'),\n",
    "        normalizers.Replace(\"''\", '\"'),\n",
    "        normalizers.Replace(\"”\", '\"'),\n",
    "        normalizers.Replace(\"“\", '\"'),\n",
    "        normalizers.Replace('ˈ', \"'\"),\n",
    "        normalizers.Replace('’',\"'\"),\n",
    "        normalizers.Replace('–',\"-\"),\n",
    "        normalizers.Replace('—',\"-\"),\n",
    "        normalizers.Replace('−',\"-\"),\n",
    "        normalizers.Replace('′',\"'\"),\n",
    "        normalizers.Replace('⁄',\"/\"),\n",
    "        normalizers.NFKD(),\n",
    "        normalizers.StripAccents(),\n",
    "        normalizers.Replace(Regex(\" {2,}\"), \" \"),\n",
    "    ]\n",
    ")\n",
    "tmp_tokenizer.pre_tokenizer = pre_tokenizers.Sequence(\n",
    "    [\n",
    "        pre_tokenizers.BertPreTokenizer(), \n",
    "        # pre_tokenizers.Metaspace(replacement = '_', add_prefix_space = True),\n",
    "        # pre_tokenizers.Punctuation(),\n",
    "        pre_tokenizers.Digits(individual_digits=True)\n",
    "    ]\n",
    ")"
   ]
  },
  {
   "cell_type": "code",
   "execution_count": 12,
   "id": "07969638-8cd6-41f9-9eee-25cbb5f56647",
   "metadata": {
    "tags": []
   },
   "outputs": [
    {
     "name": "stderr",
     "output_type": "stream",
     "text": [
      "100%|█████████████████████████████████████████████████████████████████████████████████████████████████████████████████████████████████████████████████████| 271821/271821 [00:26<00:00, 10429.47it/s]\n"
     ]
    }
   ],
   "source": [
    "char_counter = Counter()\n",
    "for i in tqdm(range(len(train_data))):\n",
    "    art_counter = Counter(train_data[i])\n",
    "    char_counter.update(art_counter)"
   ]
  },
  {
   "cell_type": "code",
   "execution_count": 13,
   "id": "01dc6e55-eb0c-4963-a684-2683527d2211",
   "metadata": {},
   "outputs": [
    {
     "data": {
      "text/plain": [
       "(4978, 2)"
      ]
     },
     "execution_count": 13,
     "metadata": {},
     "output_type": "execute_result"
    }
   ],
   "source": [
    "char_counter_df = pd.DataFrame(char_counter.most_common(), columns=['Symbol', 'Count'])\n",
    "char_counter_df.shape"
   ]
  },
  {
   "cell_type": "code",
   "execution_count": 14,
   "id": "9d427827-69ad-4710-a0da-57da437268dd",
   "metadata": {},
   "outputs": [
    {
     "data": {
      "text/plain": [
       "1    4735\n",
       "0     229\n",
       "3      11\n",
       "2       2\n",
       "4       1\n",
       "Name: Base_Symbol, dtype: int64"
      ]
     },
     "execution_count": 14,
     "metadata": {},
     "output_type": "execute_result"
    }
   ],
   "source": [
    "def get_base_char(txt):\n",
    "    tokens = tmp_tokenizer.encode(txt).tokens\n",
    "    return tokens\n",
    "char_counter_df['Base_Symbol'] = char_counter_df['Symbol'].apply(get_base_char)\n",
    "char_counter_df['Base_Symbol'].apply(len).value_counts()"
   ]
  },
  {
   "cell_type": "code",
   "execution_count": 15,
   "id": "8e1ff2ad-61ad-4635-b16b-e4c1cc40047a",
   "metadata": {},
   "outputs": [
    {
     "data": {
      "text/html": [
       "<div>\n",
       "<style scoped>\n",
       "    .dataframe tbody tr th:only-of-type {\n",
       "        vertical-align: middle;\n",
       "    }\n",
       "\n",
       "    .dataframe tbody tr th {\n",
       "        vertical-align: top;\n",
       "    }\n",
       "\n",
       "    .dataframe thead th {\n",
       "        text-align: right;\n",
       "    }\n",
       "</style>\n",
       "<table border=\"1\" class=\"dataframe\">\n",
       "  <thead>\n",
       "    <tr style=\"text-align: right;\">\n",
       "      <th></th>\n",
       "      <th>Symbol</th>\n",
       "      <th>Count</th>\n",
       "      <th>Base_Symbol</th>\n",
       "    </tr>\n",
       "  </thead>\n",
       "  <tbody>\n",
       "    <tr>\n",
       "      <th>122</th>\n",
       "      <td>…</td>\n",
       "      <td>1961</td>\n",
       "      <td>[., ., .]</td>\n",
       "    </tr>\n",
       "    <tr>\n",
       "      <th>172</th>\n",
       "      <td>½</td>\n",
       "      <td>757</td>\n",
       "      <td>[1, ⁄, 2]</td>\n",
       "    </tr>\n",
       "    <tr>\n",
       "      <th>202</th>\n",
       "      <td>″</td>\n",
       "      <td>535</td>\n",
       "      <td>[′, ′]</td>\n",
       "    </tr>\n",
       "    <tr>\n",
       "      <th>468</th>\n",
       "      <td>⅓</td>\n",
       "      <td>86</td>\n",
       "      <td>[1, ⁄, 3]</td>\n",
       "    </tr>\n",
       "    <tr>\n",
       "      <th>568</th>\n",
       "      <td>⅔</td>\n",
       "      <td>58</td>\n",
       "      <td>[2, ⁄, 3]</td>\n",
       "    </tr>\n",
       "    <tr>\n",
       "      <th>591</th>\n",
       "      <td>¼</td>\n",
       "      <td>55</td>\n",
       "      <td>[1, ⁄, 4]</td>\n",
       "    </tr>\n",
       "    <tr>\n",
       "      <th>592</th>\n",
       "      <td>¾</td>\n",
       "      <td>55</td>\n",
       "      <td>[3, ⁄, 4]</td>\n",
       "    </tr>\n",
       "    <tr>\n",
       "      <th>1310</th>\n",
       "      <td>⅜</td>\n",
       "      <td>11</td>\n",
       "      <td>[3, ⁄, 8]</td>\n",
       "    </tr>\n",
       "    <tr>\n",
       "      <th>1468</th>\n",
       "      <td>⅛</td>\n",
       "      <td>9</td>\n",
       "      <td>[1, ⁄, 8]</td>\n",
       "    </tr>\n",
       "    <tr>\n",
       "      <th>1482</th>\n",
       "      <td>⅝</td>\n",
       "      <td>9</td>\n",
       "      <td>[5, ⁄, 8]</td>\n",
       "    </tr>\n",
       "    <tr>\n",
       "      <th>2580</th>\n",
       "      <td>⅞</td>\n",
       "      <td>3</td>\n",
       "      <td>[7, ⁄, 8]</td>\n",
       "    </tr>\n",
       "    <tr>\n",
       "      <th>2599</th>\n",
       "      <td>‼</td>\n",
       "      <td>3</td>\n",
       "      <td>[!, !]</td>\n",
       "    </tr>\n",
       "    <tr>\n",
       "      <th>3359</th>\n",
       "      <td>ﷺ</td>\n",
       "      <td>2</td>\n",
       "      <td>[صلى, الله, عليه, وسلم]</td>\n",
       "    </tr>\n",
       "    <tr>\n",
       "      <th>4238</th>\n",
       "      <td>⅙</td>\n",
       "      <td>1</td>\n",
       "      <td>[1, ⁄, 6]</td>\n",
       "    </tr>\n",
       "  </tbody>\n",
       "</table>\n",
       "</div>"
      ],
      "text/plain": [
       "     Symbol  Count              Base_Symbol\n",
       "122       …   1961                [., ., .]\n",
       "172       ½    757                [1, ⁄, 2]\n",
       "202       ″    535                   [′, ′]\n",
       "468       ⅓     86                [1, ⁄, 3]\n",
       "568       ⅔     58                [2, ⁄, 3]\n",
       "591       ¼     55                [1, ⁄, 4]\n",
       "592       ¾     55                [3, ⁄, 4]\n",
       "1310      ⅜     11                [3, ⁄, 8]\n",
       "1468      ⅛      9                [1, ⁄, 8]\n",
       "1482      ⅝      9                [5, ⁄, 8]\n",
       "2580      ⅞      3                [7, ⁄, 8]\n",
       "2599      ‼      3                   [!, !]\n",
       "3359      ﷺ      2  [صلى, الله, عليه, وسلم]\n",
       "4238      ⅙      1                [1, ⁄, 6]"
      ]
     },
     "execution_count": 15,
     "metadata": {},
     "output_type": "execute_result"
    }
   ],
   "source": [
    "char_counter_df[char_counter_df['Base_Symbol'].apply(len) > 1]"
   ]
  },
  {
   "cell_type": "code",
   "execution_count": 16,
   "id": "0cacd9e1-f01a-4fe8-aff5-808084e32c0e",
   "metadata": {
    "tags": []
   },
   "outputs": [
    {
     "data": {
      "text/html": [
       "<div>\n",
       "<style scoped>\n",
       "    .dataframe tbody tr th:only-of-type {\n",
       "        vertical-align: middle;\n",
       "    }\n",
       "\n",
       "    .dataframe tbody tr th {\n",
       "        vertical-align: top;\n",
       "    }\n",
       "\n",
       "    .dataframe thead th {\n",
       "        text-align: right;\n",
       "    }\n",
       "</style>\n",
       "<table border=\"1\" class=\"dataframe\">\n",
       "  <thead>\n",
       "    <tr style=\"text-align: right;\">\n",
       "      <th></th>\n",
       "      <th>Symbol</th>\n",
       "      <th>Count</th>\n",
       "      <th>Base_Symbol</th>\n",
       "      <th>Single_Base_Symbol</th>\n",
       "    </tr>\n",
       "  </thead>\n",
       "  <tbody>\n",
       "    <tr>\n",
       "      <th>0</th>\n",
       "      <td></td>\n",
       "      <td>99530965</td>\n",
       "      <td>[]</td>\n",
       "      <td></td>\n",
       "    </tr>\n",
       "    <tr>\n",
       "      <th>1</th>\n",
       "      <td>e</td>\n",
       "      <td>48657548</td>\n",
       "      <td>[e]</td>\n",
       "      <td>e</td>\n",
       "    </tr>\n",
       "    <tr>\n",
       "      <th>2</th>\n",
       "      <td>t</td>\n",
       "      <td>33788437</td>\n",
       "      <td>[t]</td>\n",
       "      <td>t</td>\n",
       "    </tr>\n",
       "    <tr>\n",
       "      <th>3</th>\n",
       "      <td>a</td>\n",
       "      <td>33364371</td>\n",
       "      <td>[a]</td>\n",
       "      <td>a</td>\n",
       "    </tr>\n",
       "    <tr>\n",
       "      <th>4</th>\n",
       "      <td>n</td>\n",
       "      <td>28965321</td>\n",
       "      <td>[n]</td>\n",
       "      <td>n</td>\n",
       "    </tr>\n",
       "    <tr>\n",
       "      <th>...</th>\n",
       "      <td>...</td>\n",
       "      <td>...</td>\n",
       "      <td>...</td>\n",
       "      <td>...</td>\n",
       "    </tr>\n",
       "    <tr>\n",
       "      <th>4973</th>\n",
       "      <td>課</td>\n",
       "      <td>1</td>\n",
       "      <td>[課]</td>\n",
       "      <td>課</td>\n",
       "    </tr>\n",
       "    <tr>\n",
       "      <th>4974</th>\n",
       "      <td>純</td>\n",
       "      <td>1</td>\n",
       "      <td>[純]</td>\n",
       "      <td>純</td>\n",
       "    </tr>\n",
       "    <tr>\n",
       "      <th>4975</th>\n",
       "      <td>丽</td>\n",
       "      <td>1</td>\n",
       "      <td>[丽]</td>\n",
       "      <td>丽</td>\n",
       "    </tr>\n",
       "    <tr>\n",
       "      <th>4976</th>\n",
       "      <td>치</td>\n",
       "      <td>1</td>\n",
       "      <td>[치]</td>\n",
       "      <td>치</td>\n",
       "    </tr>\n",
       "    <tr>\n",
       "      <th>4977</th>\n",
       "      <td>킨</td>\n",
       "      <td>1</td>\n",
       "      <td>[킨]</td>\n",
       "      <td>킨</td>\n",
       "    </tr>\n",
       "  </tbody>\n",
       "</table>\n",
       "<p>4978 rows × 4 columns</p>\n",
       "</div>"
      ],
      "text/plain": [
       "     Symbol     Count Base_Symbol Single_Base_Symbol\n",
       "0            99530965          []                   \n",
       "1         e  48657548         [e]                  e\n",
       "2         t  33788437         [t]                  t\n",
       "3         a  33364371         [a]                  a\n",
       "4         n  28965321         [n]                  n\n",
       "...     ...       ...         ...                ...\n",
       "4973      課         1         [課]                  課\n",
       "4974      純         1         [純]                  純\n",
       "4975      丽         1         [丽]                  丽\n",
       "4976      치         1        [치]                 치\n",
       "4977      킨         1       [킨]                킨\n",
       "\n",
       "[4978 rows x 4 columns]"
      ]
     },
     "execution_count": 16,
     "metadata": {},
     "output_type": "execute_result"
    }
   ],
   "source": [
    "char_counter_df['Single_Base_Symbol'] = char_counter_df['Base_Symbol'].apply(lambda x: x[0] if x else '')\n",
    "char_counter_df"
   ]
  },
  {
   "cell_type": "code",
   "execution_count": 17,
   "id": "44eb273f-0f55-4690-87e2-5cbeeec121ae",
   "metadata": {},
   "outputs": [
    {
     "data": {
      "text/html": [
       "<div>\n",
       "<style scoped>\n",
       "    .dataframe tbody tr th:only-of-type {\n",
       "        vertical-align: middle;\n",
       "    }\n",
       "\n",
       "    .dataframe tbody tr th {\n",
       "        vertical-align: top;\n",
       "    }\n",
       "\n",
       "    .dataframe thead th {\n",
       "        text-align: right;\n",
       "    }\n",
       "</style>\n",
       "<table border=\"1\" class=\"dataframe\">\n",
       "  <thead>\n",
       "    <tr style=\"text-align: right;\">\n",
       "      <th></th>\n",
       "      <th>Single_Base_Symbol</th>\n",
       "      <th>Count</th>\n",
       "    </tr>\n",
       "  </thead>\n",
       "  <tbody>\n",
       "    <tr>\n",
       "      <th>0</th>\n",
       "      <td></td>\n",
       "      <td>100128792</td>\n",
       "    </tr>\n",
       "    <tr>\n",
       "      <th>1</th>\n",
       "      <td>e</td>\n",
       "      <td>48715319</td>\n",
       "    </tr>\n",
       "    <tr>\n",
       "      <th>2</th>\n",
       "      <td>t</td>\n",
       "      <td>33789131</td>\n",
       "    </tr>\n",
       "    <tr>\n",
       "      <th>3</th>\n",
       "      <td>a</td>\n",
       "      <td>33401452</td>\n",
       "    </tr>\n",
       "    <tr>\n",
       "      <th>4</th>\n",
       "      <td>n</td>\n",
       "      <td>28970107</td>\n",
       "    </tr>\n",
       "    <tr>\n",
       "      <th>...</th>\n",
       "      <td>...</td>\n",
       "      <td>...</td>\n",
       "    </tr>\n",
       "    <tr>\n",
       "      <th>4195</th>\n",
       "      <td>恢</td>\n",
       "      <td>1</td>\n",
       "    </tr>\n",
       "    <tr>\n",
       "      <th>4196</th>\n",
       "      <td>恒</td>\n",
       "      <td>1</td>\n",
       "    </tr>\n",
       "    <tr>\n",
       "      <th>4197</th>\n",
       "      <td>恆</td>\n",
       "      <td>1</td>\n",
       "    </tr>\n",
       "    <tr>\n",
       "      <th>4198</th>\n",
       "      <td>怨</td>\n",
       "      <td>1</td>\n",
       "    </tr>\n",
       "    <tr>\n",
       "      <th>4199</th>\n",
       "      <td>🖕</td>\n",
       "      <td>1</td>\n",
       "    </tr>\n",
       "  </tbody>\n",
       "</table>\n",
       "<p>4200 rows × 2 columns</p>\n",
       "</div>"
      ],
      "text/plain": [
       "     Single_Base_Symbol      Count\n",
       "0                        100128792\n",
       "1                     e   48715319\n",
       "2                     t   33789131\n",
       "3                     a   33401452\n",
       "4                     n   28970107\n",
       "...                 ...        ...\n",
       "4195                  恢          1\n",
       "4196                  恒          1\n",
       "4197                  恆          1\n",
       "4198                  怨          1\n",
       "4199                  🖕          1\n",
       "\n",
       "[4200 rows x 2 columns]"
      ]
     },
     "execution_count": 17,
     "metadata": {},
     "output_type": "execute_result"
    }
   ],
   "source": [
    "char_counter_df = char_counter_df.groupby('Single_Base_Symbol')['Count'].sum().reset_index()\n",
    "char_counter_df = char_counter_df.sort_values('Count', ascending=False).reset_index(drop=True)\n",
    "char_counter_df"
   ]
  },
  {
   "cell_type": "code",
   "execution_count": 18,
   "id": "a97a3d22-1d75-4502-bf12-850f23190881",
   "metadata": {},
   "outputs": [],
   "source": [
    "char_counter_df['Cum_Prc'] = (char_counter_df['Count'] / char_counter_df['Count'].sum()).cumsum()"
   ]
  },
  {
   "cell_type": "code",
   "execution_count": 19,
   "id": "c1cc5343-4f8f-4f82-9b33-ccadab7888b0",
   "metadata": {
    "tags": []
   },
   "outputs": [
    {
     "data": {
      "text/html": [
       "<div>\n",
       "<style scoped>\n",
       "    .dataframe tbody tr th:only-of-type {\n",
       "        vertical-align: middle;\n",
       "    }\n",
       "\n",
       "    .dataframe tbody tr th {\n",
       "        vertical-align: top;\n",
       "    }\n",
       "\n",
       "    .dataframe thead th {\n",
       "        text-align: right;\n",
       "    }\n",
       "</style>\n",
       "<table border=\"1\" class=\"dataframe\">\n",
       "  <thead>\n",
       "    <tr style=\"text-align: right;\">\n",
       "      <th></th>\n",
       "      <th>Single_Base_Symbol</th>\n",
       "      <th>Count</th>\n",
       "      <th>Cum_Prc</th>\n",
       "    </tr>\n",
       "  </thead>\n",
       "  <tbody>\n",
       "    <tr>\n",
       "      <th>50</th>\n",
       "      <td>)</td>\n",
       "      <td>572467</td>\n",
       "      <td>0.984419</td>\n",
       "    </tr>\n",
       "    <tr>\n",
       "      <th>51</th>\n",
       "      <td>(</td>\n",
       "      <td>572111</td>\n",
       "      <td>0.985501</td>\n",
       "    </tr>\n",
       "    <tr>\n",
       "      <th>52</th>\n",
       "      <td>3</td>\n",
       "      <td>541764</td>\n",
       "      <td>0.986526</td>\n",
       "    </tr>\n",
       "    <tr>\n",
       "      <th>53</th>\n",
       "      <td>5</td>\n",
       "      <td>538413</td>\n",
       "      <td>0.987544</td>\n",
       "    </tr>\n",
       "    <tr>\n",
       "      <th>54</th>\n",
       "      <td>8</td>\n",
       "      <td>532060</td>\n",
       "      <td>0.988550</td>\n",
       "    </tr>\n",
       "    <tr>\n",
       "      <th>55</th>\n",
       "      <td>E</td>\n",
       "      <td>514159</td>\n",
       "      <td>0.989523</td>\n",
       "    </tr>\n",
       "    <tr>\n",
       "      <th>56</th>\n",
       "      <td>J</td>\n",
       "      <td>503445</td>\n",
       "      <td>0.990475</td>\n",
       "    </tr>\n",
       "    <tr>\n",
       "      <th>57</th>\n",
       "      <td>4</td>\n",
       "      <td>495231</td>\n",
       "      <td>0.991412</td>\n",
       "    </tr>\n",
       "    <tr>\n",
       "      <th>58</th>\n",
       "      <td>O</td>\n",
       "      <td>462139</td>\n",
       "      <td>0.992286</td>\n",
       "    </tr>\n",
       "    <tr>\n",
       "      <th>59</th>\n",
       "      <td>6</td>\n",
       "      <td>445885</td>\n",
       "      <td>0.993129</td>\n",
       "    </tr>\n",
       "    <tr>\n",
       "      <th>60</th>\n",
       "      <td>7</td>\n",
       "      <td>442039</td>\n",
       "      <td>0.993965</td>\n",
       "    </tr>\n",
       "    <tr>\n",
       "      <th>61</th>\n",
       "      <td>z</td>\n",
       "      <td>418318</td>\n",
       "      <td>0.994757</td>\n",
       "    </tr>\n",
       "    <tr>\n",
       "      <th>62</th>\n",
       "      <td>j</td>\n",
       "      <td>379936</td>\n",
       "      <td>0.995475</td>\n",
       "    </tr>\n",
       "    <tr>\n",
       "      <th>63</th>\n",
       "      <td>K</td>\n",
       "      <td>347264</td>\n",
       "      <td>0.996132</td>\n",
       "    </tr>\n",
       "    <tr>\n",
       "      <th>64</th>\n",
       "      <td>q</td>\n",
       "      <td>339468</td>\n",
       "      <td>0.996774</td>\n",
       "    </tr>\n",
       "    <tr>\n",
       "      <th>65</th>\n",
       "      <td>U</td>\n",
       "      <td>311682</td>\n",
       "      <td>0.997364</td>\n",
       "    </tr>\n",
       "    <tr>\n",
       "      <th>66</th>\n",
       "      <td>V</td>\n",
       "      <td>254111</td>\n",
       "      <td>0.997844</td>\n",
       "    </tr>\n",
       "    <tr>\n",
       "      <th>67</th>\n",
       "      <td>;</td>\n",
       "      <td>190871</td>\n",
       "      <td>0.998205</td>\n",
       "    </tr>\n",
       "    <tr>\n",
       "      <th>68</th>\n",
       "      <td>:</td>\n",
       "      <td>176460</td>\n",
       "      <td>0.998539</td>\n",
       "    </tr>\n",
       "    <tr>\n",
       "      <th>69</th>\n",
       "      <td>Y</td>\n",
       "      <td>144573</td>\n",
       "      <td>0.998812</td>\n",
       "    </tr>\n",
       "    <tr>\n",
       "      <th>70</th>\n",
       "      <td>/</td>\n",
       "      <td>72465</td>\n",
       "      <td>0.998949</td>\n",
       "    </tr>\n",
       "    <tr>\n",
       "      <th>71</th>\n",
       "      <td>Z</td>\n",
       "      <td>56234</td>\n",
       "      <td>0.999056</td>\n",
       "    </tr>\n",
       "    <tr>\n",
       "      <th>72</th>\n",
       "      <td>$</td>\n",
       "      <td>46731</td>\n",
       "      <td>0.999144</td>\n",
       "    </tr>\n",
       "    <tr>\n",
       "      <th>73</th>\n",
       "      <td>Q</td>\n",
       "      <td>46310</td>\n",
       "      <td>0.999232</td>\n",
       "    </tr>\n",
       "    <tr>\n",
       "      <th>74</th>\n",
       "      <td>]</td>\n",
       "      <td>39560</td>\n",
       "      <td>0.999307</td>\n",
       "    </tr>\n",
       "    <tr>\n",
       "      <th>75</th>\n",
       "      <td>[</td>\n",
       "      <td>39478</td>\n",
       "      <td>0.999381</td>\n",
       "    </tr>\n",
       "    <tr>\n",
       "      <th>76</th>\n",
       "      <td>%</td>\n",
       "      <td>38496</td>\n",
       "      <td>0.999454</td>\n",
       "    </tr>\n",
       "    <tr>\n",
       "      <th>77</th>\n",
       "      <td>X</td>\n",
       "      <td>38489</td>\n",
       "      <td>0.999527</td>\n",
       "    </tr>\n",
       "    <tr>\n",
       "      <th>78</th>\n",
       "      <td>&amp;</td>\n",
       "      <td>26405</td>\n",
       "      <td>0.999577</td>\n",
       "    </tr>\n",
       "    <tr>\n",
       "      <th>79</th>\n",
       "      <td>!</td>\n",
       "      <td>17692</td>\n",
       "      <td>0.999610</td>\n",
       "    </tr>\n",
       "    <tr>\n",
       "      <th>80</th>\n",
       "      <td>°</td>\n",
       "      <td>13468</td>\n",
       "      <td>0.999636</td>\n",
       "    </tr>\n",
       "    <tr>\n",
       "      <th>81</th>\n",
       "      <td>£</td>\n",
       "      <td>12026</td>\n",
       "      <td>0.999659</td>\n",
       "    </tr>\n",
       "    <tr>\n",
       "      <th>82</th>\n",
       "      <td>?</td>\n",
       "      <td>11922</td>\n",
       "      <td>0.999681</td>\n",
       "    </tr>\n",
       "    <tr>\n",
       "      <th>83</th>\n",
       "      <td>+</td>\n",
       "      <td>7602</td>\n",
       "      <td>0.999695</td>\n",
       "    </tr>\n",
       "    <tr>\n",
       "      <th>84</th>\n",
       "      <td>#</td>\n",
       "      <td>4763</td>\n",
       "      <td>0.999704</td>\n",
       "    </tr>\n",
       "    <tr>\n",
       "      <th>85</th>\n",
       "      <td>ø</td>\n",
       "      <td>4750</td>\n",
       "      <td>0.999713</td>\n",
       "    </tr>\n",
       "    <tr>\n",
       "      <th>86</th>\n",
       "      <td>=</td>\n",
       "      <td>4337</td>\n",
       "      <td>0.999722</td>\n",
       "    </tr>\n",
       "    <tr>\n",
       "      <th>87</th>\n",
       "      <td>ł</td>\n",
       "      <td>4112</td>\n",
       "      <td>0.999729</td>\n",
       "    </tr>\n",
       "    <tr>\n",
       "      <th>88</th>\n",
       "      <td>&gt;</td>\n",
       "      <td>3857</td>\n",
       "      <td>0.999737</td>\n",
       "    </tr>\n",
       "    <tr>\n",
       "      <th>89</th>\n",
       "      <td>&lt;</td>\n",
       "      <td>3754</td>\n",
       "      <td>0.999744</td>\n",
       "    </tr>\n",
       "    <tr>\n",
       "      <th>90</th>\n",
       "      <td>×</td>\n",
       "      <td>3633</td>\n",
       "      <td>0.999751</td>\n",
       "    </tr>\n",
       "    <tr>\n",
       "      <th>91</th>\n",
       "      <td>α</td>\n",
       "      <td>2819</td>\n",
       "      <td>0.999756</td>\n",
       "    </tr>\n",
       "    <tr>\n",
       "      <th>92</th>\n",
       "      <td>Æ</td>\n",
       "      <td>2759</td>\n",
       "      <td>0.999761</td>\n",
       "    </tr>\n",
       "    <tr>\n",
       "      <th>93</th>\n",
       "      <td>μ</td>\n",
       "      <td>2739</td>\n",
       "      <td>0.999766</td>\n",
       "    </tr>\n",
       "    <tr>\n",
       "      <th>94</th>\n",
       "      <td>*</td>\n",
       "      <td>2733</td>\n",
       "      <td>0.999772</td>\n",
       "    </tr>\n",
       "    <tr>\n",
       "      <th>95</th>\n",
       "      <td>ο</td>\n",
       "      <td>2260</td>\n",
       "      <td>0.999776</td>\n",
       "    </tr>\n",
       "    <tr>\n",
       "      <th>96</th>\n",
       "      <td>æ</td>\n",
       "      <td>2251</td>\n",
       "      <td>0.999780</td>\n",
       "    </tr>\n",
       "    <tr>\n",
       "      <th>97</th>\n",
       "      <td>ð</td>\n",
       "      <td>2076</td>\n",
       "      <td>0.999784</td>\n",
       "    </tr>\n",
       "    <tr>\n",
       "      <th>98</th>\n",
       "      <td>₹</td>\n",
       "      <td>1747</td>\n",
       "      <td>0.999787</td>\n",
       "    </tr>\n",
       "    <tr>\n",
       "      <th>99</th>\n",
       "      <td>ə</td>\n",
       "      <td>1694</td>\n",
       "      <td>0.999791</td>\n",
       "    </tr>\n",
       "    <tr>\n",
       "      <th>100</th>\n",
       "      <td>Đ</td>\n",
       "      <td>1617</td>\n",
       "      <td>0.999794</td>\n",
       "    </tr>\n",
       "    <tr>\n",
       "      <th>101</th>\n",
       "      <td>ι</td>\n",
       "      <td>1578</td>\n",
       "      <td>0.999797</td>\n",
       "    </tr>\n",
       "    <tr>\n",
       "      <th>102</th>\n",
       "      <td>ː</td>\n",
       "      <td>1483</td>\n",
       "      <td>0.999799</td>\n",
       "    </tr>\n",
       "    <tr>\n",
       "      <th>103</th>\n",
       "      <td>ν</td>\n",
       "      <td>1327</td>\n",
       "      <td>0.999802</td>\n",
       "    </tr>\n",
       "    <tr>\n",
       "      <th>104</th>\n",
       "      <td>ε</td>\n",
       "      <td>1303</td>\n",
       "      <td>0.999804</td>\n",
       "    </tr>\n",
       "    <tr>\n",
       "      <th>105</th>\n",
       "      <td>ς</td>\n",
       "      <td>1268</td>\n",
       "      <td>0.999807</td>\n",
       "    </tr>\n",
       "    <tr>\n",
       "      <th>106</th>\n",
       "      <td>а</td>\n",
       "      <td>1238</td>\n",
       "      <td>0.999809</td>\n",
       "    </tr>\n",
       "    <tr>\n",
       "      <th>107</th>\n",
       "      <td>и</td>\n",
       "      <td>1190</td>\n",
       "      <td>0.999811</td>\n",
       "    </tr>\n",
       "    <tr>\n",
       "      <th>108</th>\n",
       "      <td>τ</td>\n",
       "      <td>1144</td>\n",
       "      <td>0.999814</td>\n",
       "    </tr>\n",
       "    <tr>\n",
       "      <th>109</th>\n",
       "      <td>€</td>\n",
       "      <td>1097</td>\n",
       "      <td>0.999816</td>\n",
       "    </tr>\n",
       "  </tbody>\n",
       "</table>\n",
       "</div>"
      ],
      "text/plain": [
       "    Single_Base_Symbol   Count   Cum_Prc\n",
       "50                   )  572467  0.984419\n",
       "51                   (  572111  0.985501\n",
       "52                   3  541764  0.986526\n",
       "53                   5  538413  0.987544\n",
       "54                   8  532060  0.988550\n",
       "55                   E  514159  0.989523\n",
       "56                   J  503445  0.990475\n",
       "57                   4  495231  0.991412\n",
       "58                   O  462139  0.992286\n",
       "59                   6  445885  0.993129\n",
       "60                   7  442039  0.993965\n",
       "61                   z  418318  0.994757\n",
       "62                   j  379936  0.995475\n",
       "63                   K  347264  0.996132\n",
       "64                   q  339468  0.996774\n",
       "65                   U  311682  0.997364\n",
       "66                   V  254111  0.997844\n",
       "67                   ;  190871  0.998205\n",
       "68                   :  176460  0.998539\n",
       "69                   Y  144573  0.998812\n",
       "70                   /   72465  0.998949\n",
       "71                   Z   56234  0.999056\n",
       "72                   $   46731  0.999144\n",
       "73                   Q   46310  0.999232\n",
       "74                   ]   39560  0.999307\n",
       "75                   [   39478  0.999381\n",
       "76                   %   38496  0.999454\n",
       "77                   X   38489  0.999527\n",
       "78                   &   26405  0.999577\n",
       "79                   !   17692  0.999610\n",
       "80                   °   13468  0.999636\n",
       "81                   £   12026  0.999659\n",
       "82                   ?   11922  0.999681\n",
       "83                   +    7602  0.999695\n",
       "84                   #    4763  0.999704\n",
       "85                   ø    4750  0.999713\n",
       "86                   =    4337  0.999722\n",
       "87                   ł    4112  0.999729\n",
       "88                   >    3857  0.999737\n",
       "89                   <    3754  0.999744\n",
       "90                   ×    3633  0.999751\n",
       "91                   α    2819  0.999756\n",
       "92                   Æ    2759  0.999761\n",
       "93                   μ    2739  0.999766\n",
       "94                   *    2733  0.999772\n",
       "95                   ο    2260  0.999776\n",
       "96                   æ    2251  0.999780\n",
       "97                   ð    2076  0.999784\n",
       "98                   ₹    1747  0.999787\n",
       "99                   ə    1694  0.999791\n",
       "100                  Đ    1617  0.999794\n",
       "101                  ι    1578  0.999797\n",
       "102                  ː    1483  0.999799\n",
       "103                  ν    1327  0.999802\n",
       "104                  ε    1303  0.999804\n",
       "105                  ς    1268  0.999807\n",
       "106                  а    1238  0.999809\n",
       "107                  и    1190  0.999811\n",
       "108                  τ    1144  0.999814\n",
       "109                  €    1097  0.999816"
      ]
     },
     "execution_count": 19,
     "metadata": {},
     "output_type": "execute_result"
    }
   ],
   "source": [
    "char_counter_df.head(110).tail(60)"
   ]
  },
  {
   "cell_type": "code",
   "execution_count": 20,
   "id": "ad7b6ff5-11ae-4157-9550-91aa250343af",
   "metadata": {},
   "outputs": [
    {
     "data": {
      "text/plain": [
       "[]"
      ]
     },
     "execution_count": 20,
     "metadata": {},
     "output_type": "execute_result"
    }
   ],
   "source": [
    "alphabet = list(char_counter_df['Single_Base_Symbol'][:90])\n",
    "[x for x in range(10) if str(x) not in alphabet]"
   ]
  },
  {
   "cell_type": "markdown",
   "id": "410151a1-c3e7-447a-92f2-7e93d27f1d87",
   "metadata": {
    "jp-MarkdownHeadingCollapsed": true,
    "tags": []
   },
   "source": [
    "# Build Tokenizer\n",
    "https://colab.research.google.com/github/tenexcoder/huggingface-tutorials/blob/main/BERT_tokenizer_from_scratch.ipynb\n",
    "https://huggingface.co/transformers/v3.5.1/main_classes/tokenizer.html\n",
    "https://huggingface.co/course/chapter6/8?fw=tf\n",
    "\n",
    "Steps\n",
    "1) Normalization\n",
    "2) Pre_tokenization\n",
    "3) Model\n",
    "4) Post-processor"
   ]
  },
  {
   "cell_type": "markdown",
   "id": "bf0e2b68-83df-41d7-8ab7-30f3013b81ee",
   "metadata": {},
   "source": [
    "## 1) Normalizer"
   ]
  },
  {
   "cell_type": "code",
   "execution_count": 21,
   "id": "a680bc39-74be-4597-8823-e15e0c741ae9",
   "metadata": {},
   "outputs": [],
   "source": [
    "normlzr = normalizers.Sequence(\n",
    "    [\n",
    "        normalizers.Replace(\"``\", '\"'),\n",
    "        normalizers.Replace(\"''\", '\"'),\n",
    "        normalizers.Replace(\"”\", '\"'),\n",
    "        normalizers.Replace(\"“\", '\"'),\n",
    "        normalizers.Replace('ˈ', \"'\"),\n",
    "        normalizers.Replace('’',\"'\"),\n",
    "        normalizers.Replace('–',\"-\"),\n",
    "        normalizers.Replace('—',\"-\"),\n",
    "        normalizers.Replace('−',\"-\"),\n",
    "        normalizers.Replace('′',\"'\"),\n",
    "        normalizers.Replace('⁄',\"/\"),\n",
    "        normalizers.NFKD(),\n",
    "        normalizers.StripAccents(),\n",
    "        normalizers.Replace(Regex(\" {2,}\"), \" \"),\n",
    "    ]\n",
    ")"
   ]
  },
  {
   "cell_type": "markdown",
   "id": "8d100011-4790-4961-8217-e97d4fa420a7",
   "metadata": {},
   "source": [
    "## 2) Pre-tokenizer"
   ]
  },
  {
   "cell_type": "code",
   "execution_count": 22,
   "id": "a6d1a279-382a-4964-8a31-8aac25803ee0",
   "metadata": {},
   "outputs": [],
   "source": [
    "pretknzr = pre_tokenizers.Sequence(\n",
    "    [\n",
    "        pre_tokenizers.BertPreTokenizer(), \n",
    "        # pre_tokenizers.Metaspace(replacement = '_', add_prefix_space = True),\n",
    "        # pre_tokenizers.Punctuation(),\n",
    "        pre_tokenizers.Digits(individual_digits=True)\n",
    "    ]\n",
    ")"
   ]
  },
  {
   "cell_type": "markdown",
   "id": "49f01ec3-fe13-4df7-bad4-9874ca9d9033",
   "metadata": {},
   "source": [
    "## 3) Model Type"
   ]
  },
  {
   "cell_type": "code",
   "execution_count": 23,
   "id": "b0229a5f-c047-4437-9f3a-d772181b3050",
   "metadata": {
    "tags": []
   },
   "outputs": [],
   "source": [
    "# ?trainers.BpeTrainer\n",
    "# ?trainers.WordPieceTrainer"
   ]
  },
  {
   "cell_type": "code",
   "execution_count": 35,
   "id": "1b80a932-637b-4d50-8424-08dc7d566691",
   "metadata": {
    "tags": []
   },
   "outputs": [],
   "source": [
    "model_type = 'BPE'\n",
    "# model_type = 'WordPiece'\n",
    "\n",
    "SPEC_TOKENS = [\"[MASK]\", \"[PAD]\", \"[UNK]\",]\n",
    "\n",
    "if model_type == 'WordPiece':\n",
    "    tokenizer = Tokenizer(models.WordPiece(unk_token=\"[UNK]\"))\n",
    "    \n",
    "    trainer = trainers.WordPieceTrainer(\n",
    "        vocab_size=50000, \n",
    "        min_frequency=0, \n",
    "        special_tokens=SPEC_TOKENS, \n",
    "        limit_alphabet=len(alphabet),\n",
    "        initial_alphabet=alphabet,\n",
    "        continuing_subword_prefix='##',\n",
    "        end_of_word_suffix='__'\n",
    "        \n",
    "    )\n",
    "elif model_type == 'BPE':\n",
    "    tokenizer = Tokenizer(models.BPE(unk_token=\"[UNK]\"))\n",
    "    \n",
    "    trainer = trainers.BpeTrainer(\n",
    "        vocab_size=100000, \n",
    "        min_frequency=0, \n",
    "        special_tokens=SPEC_TOKENS, \n",
    "        limit_alphabet=len(alphabet),\n",
    "        initial_alphabet=alphabet,\n",
    "        continuing_subword_prefix='##',\n",
    "        end_of_word_suffix='__'\n",
    "    )\n",
    "    \n",
    "tokenizer.normalizer = normlzr\n",
    "tokenizer.pre_tokenizer = pretknzr"
   ]
  },
  {
   "cell_type": "code",
   "execution_count": 36,
   "id": "7abd1009-7fb5-422c-bd99-73fc8ba0767c",
   "metadata": {},
   "outputs": [],
   "source": [
    "tokenizer.normalizer = normalizers.Sequence(\n",
    "    [\n",
    "        normalizers.Replace(\"``\", '\"'),\n",
    "        normalizers.Replace(\"''\", '\"'),\n",
    "        normalizers.Replace(\"”\", '\"'),\n",
    "        normalizers.Replace(\"“\", '\"'),\n",
    "        normalizers.Replace('ˈ', \"'\"),\n",
    "        normalizers.Replace('’',\"'\"),\n",
    "        normalizers.Replace('–',\"-\"),\n",
    "        normalizers.Replace('—',\"-\"),\n",
    "        normalizers.Replace('−',\"-\"),\n",
    "        normalizers.Replace('′',\"'\"),\n",
    "        normalizers.Replace('⁄',\"/\"),\n",
    "        normalizers.NFKD(),\n",
    "        normalizers.StripAccents(),\n",
    "        normalizers.Replace(Regex(\" {2,}\"), \" \"),\n",
    "    ]\n",
    ")"
   ]
  },
  {
   "cell_type": "markdown",
   "id": "c0392e3e-f673-44ff-847e-d50e6d3a7747",
   "metadata": {
    "tags": []
   },
   "source": [
    "## 4) Fit"
   ]
  },
  {
   "cell_type": "code",
   "execution_count": 37,
   "id": "6195f4ae-eb5c-450d-9878-354d9385739b",
   "metadata": {},
   "outputs": [
    {
     "data": {
      "text/plain": [
       "[('Let', (0, 3)),\n",
       " (\"'\", (3, 4)),\n",
       " ('s', (4, 5)),\n",
       " ('test', (6, 10)),\n",
       " ('pre', (11, 14)),\n",
       " ('-', (14, 15)),\n",
       " ('tokenization', (15, 27)),\n",
       " ('!', (27, 28)),\n",
       " ('1', (29, 30)),\n",
       " ('2', (30, 31)),\n",
       " ('3', (31, 32))]"
      ]
     },
     "execution_count": 37,
     "metadata": {},
     "output_type": "execute_result"
    }
   ],
   "source": [
    "tokenizer.pre_tokenizer.pre_tokenize_str(\"Let's test pre-tokenization! 123\")"
   ]
  },
  {
   "cell_type": "code",
   "execution_count": 38,
   "id": "48ced57b-e05b-4f66-97f4-e7f9ad074338",
   "metadata": {},
   "outputs": [
    {
     "name": "stdout",
     "output_type": "stream",
     "text": [
      "\n",
      "\n",
      "\n",
      "CPU times: user 9min 56s, sys: 31.6 s, total: 10min 28s\n",
      "Wall time: 1min 1s\n"
     ]
    }
   ],
   "source": [
    "%%time\n",
    "tokenizer.train_from_iterator(get_training_corpus(), trainer=trainer)"
   ]
  },
  {
   "cell_type": "code",
   "execution_count": 39,
   "id": "d5b36721-3f45-47c4-97ea-95547e1eebb4",
   "metadata": {},
   "outputs": [
    {
     "name": "stdout",
     "output_type": "stream",
     "text": [
      "['Hello__', 'how__', 'are__', 'u__', '?__']\n"
     ]
    }
   ],
   "source": [
    "print(tokenizer.encode(\"Héllò hôw are ü?\").tokens)"
   ]
  },
  {
   "cell_type": "code",
   "execution_count": 40,
   "id": "762ecdf7-c126-4719-868a-3542a5174d73",
   "metadata": {},
   "outputs": [],
   "source": [
    "tokenizer.save(str(DATA_PATH / \"Tokenizer_BPE100k.json\"))"
   ]
  },
  {
   "cell_type": "code",
   "execution_count": 41,
   "id": "382a4dab-b52e-4022-87f6-4608a32ad531",
   "metadata": {},
   "outputs": [],
   "source": [
    "wrapped_tokenizer = PreTrainedTokenizerFast(\n",
    "    tokenizer_file=str(DATA_PATH / \"Tokenizer_BPE100k.json\"),\n",
    "    unk_token=\"[UNK]\",\n",
    "    pad_token=\"[PAD]\",\n",
    "    mask_token=\"[MASK]\"\n",
    ")"
   ]
  },
  {
   "cell_type": "markdown",
   "id": "508f05dd-c8e9-42ea-875e-53f8b218d8b6",
   "metadata": {
    "jp-MarkdownHeadingCollapsed": true,
    "tags": []
   },
   "source": [
    "# Post Tokenizer"
   ]
  },
  {
   "cell_type": "code",
   "execution_count": 44,
   "id": "313fca71-0f41-434b-8d4b-aa008333cfcf",
   "metadata": {},
   "outputs": [],
   "source": [
    "def pre_post_tokenize(encoding):\n",
    "    tokens = ['']\n",
    "    tokens_ids = []\n",
    "    for tk, tkid in zip(encoding.tokens, encoding.ids):\n",
    "        if tk == '[UNK]' and tokens[-1] == '[UNK]':\n",
    "            continue\n",
    "        else:\n",
    "            tokens.append(tk)\n",
    "            tokens_ids.append(tkid)\n",
    "        \n",
    "    tokens.pop(0)\n",
    "    \n",
    "    return tokens, tokens_ids"
   ]
  },
  {
   "cell_type": "code",
   "execution_count": 45,
   "id": "61f4caea-904e-45ed-9402-8489682fa68d",
   "metadata": {},
   "outputs": [
    {
     "data": {
      "text/plain": [
       "1"
      ]
     },
     "execution_count": 45,
     "metadata": {},
     "output_type": "execute_result"
    }
   ],
   "source": [
    "tokenizer.token_to_id('[PAD]')"
   ]
  },
  {
   "cell_type": "code",
   "execution_count": 46,
   "id": "eceae6d1-8dd1-4dcd-8468-af393452999d",
   "metadata": {},
   "outputs": [],
   "source": [
    "Token = namedtuple('Token', ['tid', 'value', 'title', 'upper','part', 'w_end'])"
   ]
  },
  {
   "cell_type": "code",
   "execution_count": 47,
   "id": "b23d5b24-32b2-4632-98e1-0ea31ad8e02d",
   "metadata": {},
   "outputs": [],
   "source": [
    "ALL_VOCAB = {\n",
    "    'First': tokenizer.get_vocab(),\n",
    "    'First_Reverse': {v:k for k,v in tokenizer.get_vocab().items()},\n",
    "    'First_Second': {\n",
    "        tokenizer.token_to_id('[MASK]'): Token(tid=tokenizer.token_to_id('[MASK]'), value='[mask]',\n",
    "                       title=False, upper=False, part=False, w_end=True),\n",
    "        tokenizer.token_to_id('[PAD]'): Token(tid=tokenizer.token_to_id('[PAD]'), value='[pad]',\n",
    "                       title=False, upper=False, part=False, w_end=True),\n",
    "        tokenizer.token_to_id('[UNK]'): Token(tid=tokenizer.token_to_id('[UNK]'), value='[unk]', \n",
    "                       title=False, upper=False, part=False, w_end=True),\n",
    "        \n",
    "    },\n",
    "    'First_Second_Reverse': {\n",
    "        Token(tid=tokenizer.token_to_id('[MASK]'), value='[mask]',\n",
    "              title=False, upper=False, part=False, w_end=True): tokenizer.token_to_id('[MASK]'),\n",
    "        Token(tid=tokenizer.token_to_id('[PAD]'), value='[pad]',\n",
    "              title=False, upper=False, part=False, w_end=True): tokenizer.token_to_id('[PAD]'),\n",
    "        Token(tid=tokenizer.token_to_id('[UNK]'), value='[unk]',\n",
    "              title=False, upper=False, part=False, w_end=True): tokenizer.token_to_id('[UNK]'), \n",
    "        \n",
    "    },\n",
    "    'Second': {\n",
    "        '[mask]': tokenizer.token_to_id('[MASK]'),\n",
    "        '[pad]': tokenizer.token_to_id('[PAD]'),\n",
    "        '[unk]': tokenizer.token_to_id('[UNK]'),\n",
    "    },\n",
    "    'Second_Reverse': {\n",
    "        tokenizer.token_to_id('[MASK]'): '[mask]',\n",
    "        tokenizer.token_to_id('[PAD]'): '[pad]',\n",
    "        tokenizer.token_to_id('[UNK]'): '[unk]',\n",
    "    }    \n",
    "}"
   ]
  },
  {
   "cell_type": "code",
   "execution_count": 48,
   "id": "825faf34-8b0d-4669-8a78-78e36815d6a9",
   "metadata": {
    "tags": []
   },
   "outputs": [
    {
     "name": "stderr",
     "output_type": "stream",
     "text": [
      "100%|██████████████████████████████████████████████████████████████████████████████████████████████████████████████████████████████████████████████████████| 100000/100000 [00:55<00:00, 1789.18it/s]\n"
     ]
    }
   ],
   "source": [
    "max_new_id = max(ALL_VOCAB['Second_Reverse'].keys())\n",
    "\n",
    "for tk, tkid in tqdm(tokenizer.get_vocab().items()):\n",
    "    if tkid in ALL_VOCAB['First_Second']:\n",
    "        continue\n",
    "        \n",
    "    part = tk[:2] == '##'\n",
    "    w_end = tk[-2:] == '__'\n",
    "    tk = tk.replace('##','').replace('__','')\n",
    "    upper = tk.isupper()\n",
    "    title = tk[0].isupper()\n",
    "    value = tk.lower()\n",
    "    if value in ALL_VOCAB['Second'].keys():\n",
    "        value_id = ALL_VOCAB['Second'][value]\n",
    "    else:\n",
    "        value_id = max(ALL_VOCAB['Second_Reverse'].keys()) + 1\n",
    "        ALL_VOCAB['Second'][value] = value_id\n",
    "        ALL_VOCAB['Second_Reverse'][value_id] = value\n",
    "    \n",
    "    tk = Token(\n",
    "        tid=value_id, value=value, \n",
    "        title=title, upper=upper, part=part, w_end=w_end\n",
    "    )\n",
    "    ALL_VOCAB['First_Second'][tkid] = tk\n",
    "    ALL_VOCAB['First_Second_Reverse'][tk] = tkid"
   ]
  },
  {
   "cell_type": "code",
   "execution_count": 49,
   "id": "dc1fd9e2-4b65-4c80-9fbf-44b876bf9119",
   "metadata": {},
   "outputs": [
    {
     "data": {
      "text/plain": [
       "75467"
      ]
     },
     "execution_count": 49,
     "metadata": {},
     "output_type": "execute_result"
    }
   ],
   "source": [
    "len(ALL_VOCAB['Second_Reverse'])"
   ]
  },
  {
   "cell_type": "code",
   "execution_count": 50,
   "id": "3d3040c4-ce10-48c1-a47b-7b1acbb53324",
   "metadata": {},
   "outputs": [
    {
     "data": {
      "text/plain": [
       "75467"
      ]
     },
     "execution_count": 50,
     "metadata": {},
     "output_type": "execute_result"
    }
   ],
   "source": [
    "len(set(x.strip('__').strip('##').lower() for x in  tokenizer.get_vocab().keys()))"
   ]
  },
  {
   "cell_type": "code",
   "execution_count": 51,
   "id": "bc0d471e-7442-495b-a3cc-861bd122bdca",
   "metadata": {},
   "outputs": [],
   "source": [
    "save_pkl(ALL_VOCAB, DATA_PATH / \"ALLVOCAB_BPE100k.pkl\")"
   ]
  },
  {
   "cell_type": "code",
   "execution_count": 52,
   "id": "10cb2758-132d-4590-94b7-ff57664dbdd2",
   "metadata": {},
   "outputs": [],
   "source": [
    "def encode_txt(txt, tokenizer, vocab):\n",
    "    encoding = tokenizer.encode(txt)\n",
    "    all_ids = [(fid, vocab['First_Second'][fid]) for fid in encoding.ids]\n",
    "    return all_ids"
   ]
  },
  {
   "cell_type": "code",
   "execution_count": 53,
   "id": "74f1da8a-75a1-4304-89c1-f3e7f72e204a",
   "metadata": {
    "collapsed": true,
    "jupyter": {
     "outputs_hidden": true
    },
    "tags": []
   },
   "outputs": [
    {
     "name": "stdout",
     "output_type": "stream",
     "text": [
      "['Sen', '##jo__', 'no__', 'Valkyria__', '3__', ':__', 'Un', '##rec', '##orded__', 'Chronicles__', '(__', 'Japanese__', ':__', '[UNK]', '[UNK]', '[UNK]', '[UNK]', '[UNK]', '[UNK]', '[UNK]', '[UNK]', '[UNK]', '[UNK]', '3__', ',__', 'lit__', '.__', 'Valkyria__', 'of__', 'the__', 'Battlefield__', '3__', ')__', ',__', 'commonly__', 'referred__', 'to__', 'as__', 'Valkyria__', 'Chronicles__', 'III__', 'outside__', 'Japan__', ',__', 'is__', 'a__', 'tactical__', 'role__', '@__', '-__', '@__', 'playing__', 'video__', 'game__', 'developed__', 'by__', 'Sega__', 'and__', 'Media__', '.__', 'Vision__', 'for__', 'the__', 'PlayStation__', 'Portable__', '.__', 'Released__', 'in__', 'January__', '2__', '0__', '1__', '1__', 'in__', 'Japan__', ',__', 'it__', 'is__', 'the__', 'third__', 'game__', 'in__', 'the__', 'Valkyria__', 'series__', '.__', 'Employing__', 'the__', 'same__', 'fusion__', 'of__', 'tactical__', 'and__', 'real__', '@__', '-__', '@__', 'time__', 'gameplay__', 'as__', 'its__', 'predecessors__', ',__', 'the__', 'story__', 'runs__', 'parallel__', 'to__', 'the__', 'first__', 'game__', 'and__', 'follows__', 'the__', '\"__', 'Nameless__', '\"__', ',__', 'a__', 'penal__', 'military__', 'unit__', 'serving__', 'the__', 'nation__', 'of__', 'Gall', '##ia__', 'during__', 'the__', 'Second__', 'Europ', '##an__', 'War__', 'who__', 'perform__', 'secret__', 'black__', 'operations__', 'and__', 'are__', 'pitted__', 'against__', 'the__', 'Imperial__', 'unit__', '\"__', 'Calam', '##aty__', 'Raven__', '\"__', '.__', 'The__', 'game__', 'began__', 'development__', 'in__', '2__', '0__', '1__', '0__', ',__', 'carrying__', 'over__', 'a__', 'large__', 'portion__', 'of__', 'the__', 'work__', 'done__', 'on__', 'Valkyria__', 'Chronicles__', 'II__', '.__', 'While__', 'it__', 'retained__', 'the__', 'standard__', 'features__', 'of__', 'the__', 'series__', ',__', 'it__', 'also__', 'underwent__', 'multiple__', 'adjustments__', ',__', 'such__', 'as__', 'making__', 'the__', 'game__', 'more__', 'forgiving__', 'for__', 'series__', 'newcomers__', '.__', 'Character__', 'designer__', 'Ra', '##ita__', 'Hon', '##j', '##ou__', 'and__', 'composer__', 'Hitoshi__', 'Sakimoto__', 'both__', 'returned__', 'from__', 'previous__', 'entries__', ',__', 'along__', 'with__', 'Valkyria__', 'Chronicles__', 'II__', 'director__', 'Takeshi__', 'Ozawa__', '.__', 'A__', 'large__', 'team__', 'of__', 'writers__', 'handled__', 'the__', 'script__', '.__', 'The__', 'game__', \"'__\", 's__', 'opening__', 'theme__', 'was__', 'sung__', 'by__', 'May__', \"'__\", 'n__', '.__', 'It__', 'met__', 'with__', 'positive__', 'sales__', 'in__', 'Japan__', ',__', 'and__', 'was__', 'praised__', 'by__', 'both__', 'Japanese__', 'and__', 'western__', 'critics__', '.__', 'After__', 'release__', ',__', 'it__', 'received__', 'downloadable__', 'content__', ',__', 'along__', 'with__', 'an__', 'expanded__', 'edition__', 'in__', 'November__', 'of__', 'that__', 'year__', '.__', 'It__', 'was__', 'also__', 'adapted__', 'into__', 'manga__', 'and__', 'an__', 'original__', 'video__', 'animation__', 'series__', '.__', 'Due__', 'to__', 'low__', 'sales__', 'of__', 'Valkyria__', 'Chronicles__', 'II__', ',__', 'Valkyria__', 'Chronicles__', 'III__', 'was__', 'not__', 'localized__', ',__', 'but__', 'a__', 'fan__', 'translation__', 'compatible__', 'with__', 'the__', 'game__', \"'__\", 's__', 'expanded__', 'edition__', 'was__', 'released__', 'in__', '2__', '0__', '1__', '4__', '.__', 'Media__', '.__', 'Vision__', 'would__', 'return__', 'to__', 'the__', 'franchise__', 'with__', 'the__', 'development__', 'of__', 'Valkyria__', ':__', 'Azure__', 'Revolution__', 'for__', 'the__', 'PlayStation__', '4__', '.__']\n",
      "358\n"
     ]
    }
   ],
   "source": [
    "encoding = tokenizer.encode(train_data[0])\n",
    "print(encoding.tokens)\n",
    "print(len(encoding.tokens))\n",
    "# print(encoding.ids)"
   ]
  },
  {
   "cell_type": "code",
   "execution_count": 54,
   "id": "ca42ef33-8d8c-4048-aa1a-de9c84e2f5ba",
   "metadata": {
    "tags": []
   },
   "outputs": [
    {
     "data": {
      "text/plain": [
       "2785"
      ]
     },
     "execution_count": 54,
     "metadata": {},
     "output_type": "execute_result"
    }
   ],
   "source": [
    "len([(k,v) for k,v in ALL_VOCAB['First_Second'].items() if len(v.value) > 1 and v.upper])"
   ]
  },
  {
   "cell_type": "code",
   "execution_count": 55,
   "id": "a6297f72-ebda-4601-81ac-a20aa9f426ba",
   "metadata": {},
   "outputs": [
    {
     "data": {
      "text/plain": [
       "43760"
      ]
     },
     "execution_count": 55,
     "metadata": {},
     "output_type": "execute_result"
    }
   ],
   "source": [
    "len([(k,v) for k,v in ALL_VOCAB['First_Second'].items() if len(v.value) > 1 and v.title])"
   ]
  },
  {
   "cell_type": "code",
   "execution_count": 56,
   "id": "376cf150-5a9e-4cf7-9e50-d26537bd44b7",
   "metadata": {
    "tags": []
   },
   "outputs": [
    {
     "data": {
      "text/plain": [
       "17737"
      ]
     },
     "execution_count": 56,
     "metadata": {},
     "output_type": "execute_result"
    }
   ],
   "source": [
    "len([(k,v) for k,v in ALL_VOCAB['First_Second'].items() if v.part])"
   ]
  },
  {
   "cell_type": "code",
   "execution_count": 57,
   "id": "77a1a4ed-d478-4b44-a982-e0037e69126b",
   "metadata": {},
   "outputs": [
    {
     "data": {
      "text/plain": [
       "78507"
      ]
     },
     "execution_count": 57,
     "metadata": {},
     "output_type": "execute_result"
    }
   ],
   "source": [
    "len([(k,v) for k,v in ALL_VOCAB['First_Second'].items() if v.w_end])"
   ]
  },
  {
   "cell_type": "code",
   "execution_count": 58,
   "id": "18cc3682-d1b9-4501-978f-8f9c4e32ecab",
   "metadata": {},
   "outputs": [
    {
     "data": {
      "text/plain": [
       "63573"
      ]
     },
     "execution_count": 58,
     "metadata": {},
     "output_type": "execute_result"
    }
   ],
   "source": [
    "len([(k,v) for k,v in ALL_VOCAB['First_Second'].items() if v.w_end and not v.part])"
   ]
  },
  {
   "cell_type": "code",
   "execution_count": 59,
   "id": "5ef5cf10-416b-4bd0-8a7b-4d8ba90757af",
   "metadata": {},
   "outputs": [
    {
     "data": {
      "text/plain": [
       "100000"
      ]
     },
     "execution_count": 59,
     "metadata": {},
     "output_type": "execute_result"
    }
   ],
   "source": [
    "len(ALL_VOCAB['First_Second'])"
   ]
  },
  {
   "cell_type": "markdown",
   "id": "ec31f8fd-9d8a-437b-a3fe-d1df2b28e665",
   "metadata": {
    "tags": []
   },
   "source": [
    "# Make Train Data"
   ]
  },
  {
   "cell_type": "code",
   "execution_count": 11,
   "id": "4bd1ebc6-97f5-4b4f-824b-4095b1689728",
   "metadata": {},
   "outputs": [],
   "source": [
    "wrapped_tokenizer = PreTrainedTokenizerFast(\n",
    "    tokenizer_file=str(DATA_PATH / \"Tokenizer_BPE100k.json\"),\n",
    "    unk_token=\"[UNK]\",\n",
    "    pad_token=\"[PAD]\",\n",
    "    mask_token=\"[MASK]\"\n",
    ")"
   ]
  },
  {
   "cell_type": "code",
   "execution_count": 12,
   "id": "a171483e-2629-48f6-be06-880f3b1da3b1",
   "metadata": {},
   "outputs": [
    {
     "data": {
      "text/plain": [
       "2"
      ]
     },
     "execution_count": 12,
     "metadata": {},
     "output_type": "execute_result"
    }
   ],
   "source": [
    "wrapped_tokenizer.unk_token_id"
   ]
  },
  {
   "cell_type": "code",
   "execution_count": 13,
   "id": "4c558ff4-1667-4b8b-86f7-e2afe8004ca5",
   "metadata": {},
   "outputs": [],
   "source": [
    "def merge_unks(toks, unk=0):\n",
    "    return [tk for i, tk in enumerate(toks) if (tk != unk) or (i == 0) or (toks[i-1] != unk)]"
   ]
  },
  {
   "cell_type": "code",
   "execution_count": 14,
   "id": "1ad8e359-24a0-491e-a739-0884717dc856",
   "metadata": {},
   "outputs": [],
   "source": [
    "def final_tokenizer(txt):\n",
    "    tokens = wrapped_tokenizer(txt)['input_ids']\n",
    "    tokens = merge_unks(tokens, wrapped_tokenizer.unk_token_id)\n",
    "    return np.array(tokens)"
   ]
  },
  {
   "cell_type": "code",
   "execution_count": 15,
   "id": "06dd83eb-7670-43a3-b9e6-12fc55626c9e",
   "metadata": {},
   "outputs": [],
   "source": [
    "def get_all_sub_seq(tokens, max_len, pad=1):\n",
    "    ln = len(tokens)\n",
    "    if ln < max_len:\n",
    "        # print(f'Fact Length = {ln}')\n",
    "        return np.array([np.concatenate([tokens, [pad]*(max_len - ln)])])\n",
    "    sub_seqs = []\n",
    "    for i in range(ln - max_len + 1):\n",
    "        sub_seqs.append(tokens[i:i+max_len])\n",
    "    return np.array(sub_seqs)"
   ]
  },
  {
   "cell_type": "code",
   "execution_count": 72,
   "id": "d7d3d284-9d05-4c3e-8fbf-4a71b6fb0ec5",
   "metadata": {},
   "outputs": [],
   "source": [
    "train_fixlen = [final_tokenizer(txt) for txt in train_data]"
   ]
  },
  {
   "cell_type": "code",
   "execution_count": 77,
   "id": "1f0a8d73-4d2a-4249-9cb9-f6e9b67955f1",
   "metadata": {},
   "outputs": [
    {
     "name": "stdout",
     "output_type": "stream",
     "text": [
      "CPU times: user 53.2 s, sys: 2min 18s, total: 3min 12s\n",
      "Wall time: 4min 50s\n"
     ]
    },
    {
     "data": {
      "text/plain": [
       "(4272181, 1024)"
      ]
     },
     "execution_count": 77,
     "metadata": {},
     "output_type": "execute_result"
    }
   ],
   "source": [
    "%%time\n",
    "train_fixlen = [final_tokenizer(txt) for txt in train_data]\n",
    "train_fixlen = [\n",
    "    get_all_sub_seq(tks, max_len=1024, pad=wrapped_tokenizer.pad_token_id) \n",
    "    for tks in train_fixlen if len(tks) > 9\n",
    "]\n",
    "train_fixlen = np.concatenate(train_fixlen, axis=0)\n",
    "train_fixlen = np.array(train_fixlen, np.uintc)\n",
    "train_fixlen.shape #(103596449, 30)"
   ]
  },
  {
   "cell_type": "code",
   "execution_count": null,
   "id": "7b85ec1d-52be-46bf-a3ba-12f1e85afe4c",
   "metadata": {},
   "outputs": [],
   "source": [
    "with open(DATA_PATH / 'train_1024T.npy', 'wb') as f:\n",
    "    np.save(f, train_fixlen)"
   ]
  },
  {
   "cell_type": "code",
   "execution_count": 27,
   "id": "a3c89e07-378c-4528-b00a-fe050a96a90b",
   "metadata": {},
   "outputs": [
    {
     "name": "stdout",
     "output_type": "stream",
     "text": [
      "585 MB\n",
      "24863 MB\n"
     ]
    }
   ],
   "source": [
    "process_memory()\n",
    "objects_memory(train_30T)"
   ]
  },
  {
   "cell_type": "markdown",
   "id": "d848ddee-f96d-4c5a-8438-d323244a9538",
   "metadata": {
    "tags": []
   },
   "source": [
    "# Load to Train"
   ]
  },
  {
   "cell_type": "code",
   "execution_count": 5,
   "id": "cafa0cba-7ae4-4033-9584-20f587e2131e",
   "metadata": {},
   "outputs": [
    {
     "name": "stdout",
     "output_type": "stream",
     "text": [
      "483 MB\n"
     ]
    }
   ],
   "source": [
    "process_memory()"
   ]
  },
  {
   "cell_type": "code",
   "execution_count": 8,
   "id": "3b0c5a7c-95c4-4b99-98cd-50bf9f97a65a",
   "metadata": {},
   "outputs": [],
   "source": [
    "with open(DATA_PATH / 'train_30T.npy', 'rb') as f:\n",
    "    train_tokens = np.load(f)"
   ]
  },
  {
   "cell_type": "code",
   "execution_count": 10,
   "id": "9ab98b94-8b9d-4dc8-9f2a-c85ca3c98518",
   "metadata": {},
   "outputs": [
    {
     "data": {
      "text/plain": [
       "1531949.0"
      ]
     },
     "execution_count": 10,
     "metadata": {},
     "output_type": "execute_result"
    }
   ],
   "source": [
    "1568715776 / 1024"
   ]
  },
  {
   "cell_type": "code",
   "execution_count": 94,
   "id": "ddb6b536-ba94-4362-9443-a725d92f1720",
   "metadata": {},
   "outputs": [],
   "source": [
    "Token = namedtuple('Token', ['tid', 'value', 'title', 'upper','part', 'w_end'])\n",
    "ALL_VOCAB = load_pkl(DATA_PATH / \"ALLVOCAB_BPE100k.pkl\")"
   ]
  },
  {
   "cell_type": "code",
   "execution_count": 93,
   "id": "010d47ee-1c11-4357-99fd-48e278823222",
   "metadata": {},
   "outputs": [],
   "source": [
    "wrapped_tokenizer = PreTrainedTokenizerFast(\n",
    "    tokenizer_file=str(DATA_PATH / \"Tokenizer_BPE100k.json\"),\n",
    "    unk_token=\"[UNK]\",\n",
    "    pad_token=\"[PAD]\",\n",
    "    mask_token=\"[MASK]\"\n",
    ")"
   ]
  },
  {
   "cell_type": "code",
   "execution_count": 78,
   "id": "306756c6-9b68-4566-b448-9ad7de2c831c",
   "metadata": {},
   "outputs": [
    {
     "name": "stdout",
     "output_type": "stream",
     "text": [
      "1632 MB\n"
     ]
    }
   ],
   "source": [
    "process_memory()"
   ]
  },
  {
   "cell_type": "code",
   "execution_count": 79,
   "id": "4916bf80-2844-4b0b-b636-4db76389bcf7",
   "metadata": {},
   "outputs": [
    {
     "name": "stdout",
     "output_type": "stream",
     "text": [
      "12432 MB\n"
     ]
    }
   ],
   "source": [
    "objects_memory(train_tokens)"
   ]
  },
  {
   "cell_type": "markdown",
   "id": "96653220-d459-493b-b323-5975e0f23833",
   "metadata": {},
   "source": [
    "# Choose parameters"
   ]
  },
  {
   "cell_type": "code",
   "execution_count": 2,
   "id": "d43ae782-b05b-4129-98fc-450ebd5e9437",
   "metadata": {},
   "outputs": [],
   "source": [
    "def show_step_size(vocab_size, enc_len, min_val=0, rnd=3):\n",
    "    step = vocab_size**(1/enc_len)\n",
    "    step = (1 if min_val == 0 else 2) / step\n",
    "    print(f'Vocab size = {vocab_size}, Encodind length = {enc_len}, Diaposon = [{min_val},1]\\t=>\\tStep Size = {round(step,rnd)}')"
   ]
  },
  {
   "cell_type": "code",
   "execution_count": 12,
   "id": "1ed3c154-d3b9-4d5a-a407-f275a1ad0814",
   "metadata": {},
   "outputs": [
    {
     "data": {
      "text/plain": [
       "dict_keys(['First', 'First_Reverse', 'First_Second', 'First_Second_Reverse', 'Second', 'Second_Reverse'])"
      ]
     },
     "execution_count": 12,
     "metadata": {},
     "output_type": "execute_result"
    }
   ],
   "source": [
    "ALL_VOCAB.keys()"
   ]
  },
  {
   "cell_type": "code",
   "execution_count": 13,
   "id": "ef799dce-e19a-4885-be48-c0442aae4bd0",
   "metadata": {},
   "outputs": [
    {
     "data": {
      "text/plain": [
       "75463"
      ]
     },
     "execution_count": 13,
     "metadata": {},
     "output_type": "execute_result"
    }
   ],
   "source": [
    "len(ALL_VOCAB['Second'])"
   ]
  },
  {
   "cell_type": "code",
   "execution_count": 81,
   "id": "5196ee23-68b6-4329-9b26-159018c7afd7",
   "metadata": {
    "tags": []
   },
   "outputs": [
    {
     "name": "stdout",
     "output_type": "stream",
     "text": [
      "Vocab size = 75464, Encodind length = 4, Diaposon = [0,1]\t=>\tStep Size = 0.06\n",
      "Vocab size = 75464, Encodind length = 4, Diaposon = [-1,1]\t=>\tStep Size = 0.121\n",
      "Vocab size = 75464, Encodind length = 5, Diaposon = [0,1]\t=>\tStep Size = 0.106\n",
      "Vocab size = 75464, Encodind length = 5, Diaposon = [-1,1]\t=>\tStep Size = 0.212\n"
     ]
    }
   ],
   "source": [
    "show_step_size(len(ALL_VOCAB['Second']) + 1, 4, min_val=0)\n",
    "show_step_size(len(ALL_VOCAB['Second']) + 1, 4, min_val=-1)\n",
    "show_step_size(len(ALL_VOCAB['Second']) + 1, 5, min_val=0)\n",
    "show_step_size(len(ALL_VOCAB['Second']) + 1, 5, min_val=-1)"
   ]
  },
  {
   "cell_type": "code",
   "execution_count": 54,
   "id": "00dca62a-1a74-4115-9038-ebb881d51234",
   "metadata": {},
   "outputs": [
    {
     "name": "stdout",
     "output_type": "stream",
     "text": [
      "Vocab size = 1024, Encodind length = 3, Diaposon = [-1,1]\t=>\tStep Size = 0.198\n",
      "Vocab size = 1024, Encodind length = 3, Diaposon = [0,1]\t=>\tStep Size = 0.099\n",
      "Vocab size = 1024, Encodind length = 4, Diaposon = [-1,1]\t=>\tStep Size = 0.354\n",
      "Vocab size = 1024, Encodind length = 4, Diaposon = [0,1]\t=>\tStep Size = 0.177\n",
      "Vocab size = 1024, Encodind length = 5, Diaposon = [-1,1]\t=>\tStep Size = 0.5\n",
      "Vocab size = 1024, Encodind length = 5, Diaposon = [0,1]\t=>\tStep Size = 0.25\n",
      "Vocab size = 1024, Encodind length = 10, Diaposon = [-1,1]\t=>\tStep Size = 1.0\n"
     ]
    }
   ],
   "source": [
    "# SEQUANCE LENGHT\n",
    "show_step_size(1024, 3, min_val=-1)\n",
    "show_step_size(1024, 3, min_val=0)\n",
    "show_step_size(1024, 4, min_val=-1)\n",
    "show_step_size(1024, 4, min_val=0)\n",
    "show_step_size(1024, 5, min_val=-1)\n",
    "show_step_size(1024, 5, min_val=0)\n",
    "show_step_size(1024, 10, min_val=-1)\n"
   ]
  },
  {
   "cell_type": "markdown",
   "id": "6c651215-3853-44b5-a3cc-f42a597d8c2d",
   "metadata": {
    "tags": []
   },
   "source": [
    "# Arhitecture"
   ]
  },
  {
   "cell_type": "code",
   "execution_count": null,
   "id": "cfcfe72e-5fc5-4e07-8bee-965b0eeffdf4",
   "metadata": {},
   "outputs": [],
   "source": [
    "# Input:\n",
    "    # H_i = B x S x E_i\n",
    "    # Conn_i = B x S x S x C\n",
    "\n",
    "# Output: \n",
    "    # H_(i+1) = B x S x E_(i+1)\n",
    "    # Conn_(i+1) = B x S x S x C\n",
    "\n",
    "# Algo:\n",
    "    # 1) H_i_ext_1 = B x S x S x e_i\n",
    "    # 2) H_i_ext_2 = B x S x S x e_i\n",
    "    # 3) Conn' = f1(H_i_ext_1, H_i_ext_2) = B x S x S x C\n",
    "    # 4) Coef = f2(Conn', PosEnc) = B x S x S x 1\n",
    "    # 5) Conn\" = Coef * Conn'\n",
    "    # 6) Conn_(i+1) = (1 - beta) * Conn_i + beta * Conn\"\n",
    "    \n",
    "    # 7) Scores = f3(Conn_(i+1)), возможно несколько скоров и их голов эттеншена\n",
    "    # 8) Att = f4(Scores)\n",
    "    # 9) H_agg = Att * H_i\n",
    "    # 10) H_(i+1) = f5(H_i, H_agg)"
   ]
  },
  {
   "cell_type": "code",
   "execution_count": null,
   "id": "4aa09499-d2d1-411d-a0bd-7056b1803ed5",
   "metadata": {},
   "outputs": [],
   "source": [
    "# 1) Закончить логику с Эттеншн Блок\n",
    "# 2) Инициализация сети\n",
    "\n",
    "\n",
    "\n",
    "\n",
    "\n",
    "\n",
    "\n",
    "\n",
    "\n"
   ]
  },
  {
   "cell_type": "markdown",
   "id": "be9d7660-42e2-4e1f-b3f7-37eb07a776da",
   "metadata": {},
   "source": [
    "## TokensEncoding "
   ]
  },
  {
   "cell_type": "code",
   "execution_count": 77,
   "id": "3f77d885-0b4b-4574-87ec-442ec0483b68",
   "metadata": {},
   "outputs": [],
   "source": [
    "def gen_embed(vocab_size, dim=6, min_value=-1):\n",
    "    cnt_per_item = int(np.ceil(vocab_size ** (1 / dim)))\n",
    "    delta = 1 - min_value\n",
    "    step_size = delta / cnt_per_item\n",
    "    \n",
    "    range_list = np.array([[min_value + i * step_size,] for i in range(cnt_per_item)])\n",
    "    range_list[-1] = 1\n",
    "    \n",
    "\n",
    "    final_matrix = range_list\n",
    "    for i in range(1,dim):\n",
    "        ext_fm = einops.repeat(final_matrix, 'r c -> (rp r) c', rp=cnt_per_item)\n",
    "        dop_col = einops.repeat(range_list, 'r c -> (r rp) c', rp=final_matrix.shape[0])\n",
    "        final_matrix = np.concatenate([dop_col, ext_fm], axis=-1)\n",
    "    return final_matrix"
   ]
  },
  {
   "cell_type": "code",
   "execution_count": 78,
   "id": "198a7e4c-b474-4bf0-ac58-2a7b491b5c7b",
   "metadata": {},
   "outputs": [],
   "source": [
    "class TokensEncoding(nn.Module):\n",
    "\n",
    "    def __init__(self, cnt_tokens, encoding_size, min_value=-1, seed=0):\n",
    "        super(TokensEncoding, self).__init__()\n",
    "        self.cnt_tokens = cnt_tokens\n",
    "        self.encoding_size = encoding_size\n",
    "        self.min_value = min_value\n",
    "        \n",
    "        # Encoding Matrix\n",
    "        self.tokens_encoding = nn.Embedding(self.cnt_tokens, self.encoding_size)\n",
    "        self.init_weights(seed)\n",
    "\n",
    "    def init_weights(self, seed):\n",
    "        np.random.seed(seed)\n",
    "        full_matrix = gen_embed(self.cnt_tokens, self.encoding_size, self.min_value)\n",
    "        np.random.shuffle(full_matrix)\n",
    "        self.tokens_encoding.weight.data = torch.tensor(full_matrix[:self.cnt_tokens], dtype=torch.float32).\\\n",
    "            requires_grad_(False)\n",
    "\n",
    "    def forward(self, batch, ptime=False):\n",
    "        # batch = batch x seq_len\n",
    "        t0 = time.time()\n",
    "        \n",
    "        tokens_encoding = self.tokens_encoding(batch)\n",
    "        if ptime:\n",
    "            print(f'TokensEncoding, forward time: {time.time()-t0}')\n",
    "            \n",
    "        # tokens_encoding = batch x seq_len x encoding_size\n",
    "        return tokens_encoding\n",
    "    \n",
    "    \n",
    "    def init_optims(self, opt_type, lr):\n",
    "        pass\n",
    "    \n",
    "    def set_lr(self, lr_weight, lr_bias):\n",
    "        pass\n",
    "\n",
    "    def step(self):\n",
    "        pass\n",
    "        \n",
    "    def zero_grad(self):\n",
    "        pass\n",
    "\n",
    "    def clip_grad(self, maxg=1e-2):\n",
    "        pass\n",
    "\n",
    "    def count_params(self):\n",
    "        return 0"
   ]
  },
  {
   "cell_type": "markdown",
   "id": "59bac6e4-0e29-4c38-8533-2d05ed7c70dc",
   "metadata": {
    "tags": []
   },
   "source": [
    "## FFNet"
   ]
  },
  {
   "cell_type": "code",
   "execution_count": 79,
   "id": "5b351157-055e-4259-aba2-b053453c70f4",
   "metadata": {},
   "outputs": [],
   "source": [
    "class FFNet(nn.Module):\n",
    "\n",
    "    def __init__(self, input_size, output_size, activation=torch.tanh, seed=0):\n",
    "        super(FFNet, self).__init__()\n",
    "        self.seed=seed\n",
    "        self.input_size = input_size\n",
    "        self.output_size = output_size\n",
    "        self.lay0 = nn.Linear(in_features=input_size, out_features=output_size)\n",
    "        self.activation = activation\n",
    "        self.init_weights(seed)\n",
    "        \n",
    "    \n",
    "    def init_weights(self, seed):\n",
    "        torch.manual_seed(seed)\n",
    "        # nn.init.xavier_uniform_(self.lay0.weight, gain=1.0)\n",
    "        nn.init.xavier_uniform_(self.lay0.weight)\n",
    "        nn.init.constant_(self.lay0.bias, 0)\n",
    "        # self.lay0.weight.data = torch.tensor(np.array(self.lay0.weight.data), dtype=torch.float32).requires_grad_(True)\n",
    "        # self.lay0.bias.data = torch.tensor(np.array(self.lay0.bias.data), dtype=torch.float32).requires_grad_(True)\n",
    "        \n",
    "        \n",
    "    def forward(self, batch, ptime=False):\n",
    "        # batch = b x s x (h + sum(agg_h))\n",
    "        t0 = time.time()\n",
    "        \n",
    "        batch = self.activation(self.lay0(batch))\n",
    "        # batch = b x s x h_new\n",
    "        \n",
    "        if ptime:\n",
    "            print(f'FFNet, forward time: {time.time()-t0}')\n",
    "        return batch\n",
    "\n",
    "    def init_optims(self, opt_type, lr):\n",
    "        self.opt = getattr(optim, opt_type)([self.lay0.weight, self.lay0.bias], lr=lr)\n",
    "\n",
    "    def set_lr(self, lr_weight, lr_bias):\n",
    "        pass\n",
    "\n",
    "    def step(self):\n",
    "        self.opt.step()\n",
    "        \n",
    "    def zero_grad(self):\n",
    "        self.opt.zero_grad()\n",
    "\n",
    "    def clip_grad(self, maxg=1e-2):\n",
    "        pass\n",
    "\n",
    "    def count_params(self):\n",
    "        return 0"
   ]
  },
  {
   "cell_type": "markdown",
   "id": "af8c4dcd-88d8-48c2-9125-b8660492f811",
   "metadata": {
    "tags": []
   },
   "source": [
    "## ConnectionCoef (Conv)"
   ]
  },
  {
   "cell_type": "code",
   "execution_count": 80,
   "id": "11de9d2a-ed14-4e0c-8bb7-1706df085d00",
   "metadata": {},
   "outputs": [],
   "source": [
    "class ConnectionCoefConv(nn.Module):\n",
    "\n",
    "    def __init__(self, max_seq_len, seed=0):\n",
    "        super(ConnectionCoefConv, self).__init__()\n",
    "        self.seed = seed\n",
    "        self.windows = [4,8,16,32,64]\n",
    "        \n",
    "        for w in self.windows:\n",
    "            setattr(self, f'window_lay_{w}', \n",
    "                    torch.nn.Conv2d(in_channels=1, out_channels=1, kernel_size=(w,2), stride=w, padding=0)\n",
    "                   )\n",
    "        \n",
    "        self.pos_input = torch.tensor(\n",
    "            np.log(1 + np.array([[abs(i - j) for j in range(max_seq_len)] for i in range(max_seq_len)])) / np.log(max_seq_len),\n",
    "            dtype=torch.float32\n",
    "        ).requires_grad_(False)\n",
    "        # pos_input = S x S\n",
    "        \n",
    "        \n",
    "        self.agg_lay = nn.Linear(in_features=2 + len(self.windows), out_features=1)\n",
    "        self.init_weights(seed)\n",
    "    \n",
    "    def init_weights(self, seed):\n",
    "        torch.manual_seed(seed)\n",
    "        # TODO: Инициализация\n",
    "        pass\n",
    "        \n",
    "    def forward(self, coefs, ptime=False):\n",
    "        # batch = b x s x s x 1\n",
    "        t0 = time.time()\n",
    "        \n",
    "        b = coefs.shape[0]\n",
    "        s = coefs.shape[1]\n",
    "        \n",
    "        ost = coefs.shape[1] % self.windows[-1]\n",
    "        \n",
    "        if ost:\n",
    "            dop = self.windows[-1] - ost\n",
    "            dop = torch.zeros((b, s, dop, 1), dtype=torch.float32).requires_grad_(False)\n",
    "            coefs = torch.cat([coefs, dop], axis=2)\n",
    "        \n",
    "        s2 = coefs.shape[2]\n",
    "        pos_input = self.pos_input[:s,:s2]\n",
    "        # pos_input = s x s\n",
    "        pos_input = einops.repeat(pos_input, 's1 s2 -> b s1 s2 l', b=b, l=1)\n",
    "        \n",
    "        coefs = torch.cat([coefs, pos_input], axis=3)\n",
    "        coefs = einops.rearrange(coefs, 'b s1 s2 l -> (b s1) s2 l')\n",
    "        \n",
    "        agg_windows = [coefs, ]\n",
    "        usq_coefs = coefs.unsqueeze(1)\n",
    "        for w in self.windows:\n",
    "            tmp_agg = getattr(self, f'window_lay_{w}')(usq_coefs)\n",
    "            # tmp_agg = (b * s1) x 2 x r x 1\n",
    "            tmp_agg = einops.repeat(tmp_agg, 'bs c k v -> bs (k w) (c v)', w=w)\n",
    "            # tmp_agg = (b * s1) x s2 x 2\n",
    "            agg_windows.append(tmp_agg)\n",
    "        \n",
    "        agg_windows = torch.cat(agg_windows, axis=-1)\n",
    "        # agg_windows = (b * s1) x s2 x (cnt_windows + 1) * 2\n",
    "        \n",
    "        coefs = torch.sigmoid(self.agg_lay(agg_windows))\n",
    "        # coefs = (b * s1) x s2 x 1\n",
    "        coefs = einops.rearrange(coefs, '(b s1) s2 l -> b s1 s2 l', b=b, s1=s)\n",
    "        # coefs = b x s1 x s2 x 1\n",
    "        coefs = coefs[:,:,:s,:]\n",
    "        # coefs = b x s x s x 1\n",
    "        \n",
    "        if ptime:\n",
    "            print(f'ConnectionCoefConv, forward time: {time.time()-t0}')\n",
    "        return coefs\n",
    "\n",
    "    def init_optims(self, opt_type, lr):\n",
    "        self.current_weight_lr = lr\n",
    "        self.opt = getattr(optim, opt_type)([self.lay0.weight, self.lay0.bias], lr=lr)\n",
    "\n",
    "    def set_lr(self, lr_weight, lr_bias):\n",
    "        pass\n",
    "\n",
    "    def step(self):\n",
    "        self.opt.step()\n",
    "        \n",
    "    def zero_grad(self):\n",
    "        self.opt.zero_grad()\n",
    "\n",
    "    def clip_grad(self, maxg=1e-2):\n",
    "        pass\n",
    "\n",
    "    def count_params(self):\n",
    "        return 0"
   ]
  },
  {
   "cell_type": "markdown",
   "id": "f7e7d660-7141-417f-a104-46f04eba64e9",
   "metadata": {},
   "source": [
    "## ConnectionCoef (Pooling)"
   ]
  },
  {
   "cell_type": "code",
   "execution_count": 81,
   "id": "9e7894ee-0bf9-4b93-b70e-b1466d42fbdc",
   "metadata": {},
   "outputs": [],
   "source": [
    "class ConnectionCoefPool(nn.Module):\n",
    "\n",
    "    def __init__(self, max_seq_len, seed=0):\n",
    "        super(ConnectionCoefPool, self).__init__()\n",
    "        self.seed = seed\n",
    "        self.windows = [5,9,17,33,65]\n",
    "        \n",
    "        for w in self.windows:\n",
    "            setattr(self, f'window_{w}_max', \n",
    "                    torch.nn.MaxPool1d(kernel_size=w, stride=1, padding=int((w - 1) / 2))\n",
    "                   )\n",
    "            setattr(self, f'window_{w}_avg', \n",
    "                    torch.nn.AvgPool1d(kernel_size=w, stride=1, padding=int((w - 1) / 2))\n",
    "                   )\n",
    "        \n",
    "        self.agg_lay = nn.Linear(in_features=3 * len(self.windows) + 2, out_features=1)\n",
    "        self.init_weights(seed)\n",
    "    \n",
    "    def init_weights(self, seed):\n",
    "        torch.manual_seed(seed)\n",
    "        nn.init.xavier_uniform_(self.agg_lay.weight, gain=1.0)\n",
    "        nn.init.constant_(self.agg_lay.bias, 0)\n",
    "        # self.agg_lay.weight.data = torch.tensor(np.array(self.agg_lay.weight.data), dtype=torch.float32).requires_grad_(True)\n",
    "        # self.agg_lay.bias.data = torch.tensor(np.array(self.agg_lay.bias.data), dtype=torch.float32).requires_grad_(True)\n",
    "        \n",
    "        \n",
    "    def forward(self, coefs, ptime=False):\n",
    "        # batch = b x s x s x 1\n",
    "        t0 = time.time()\n",
    "        \n",
    "        b = coefs.shape[0]\n",
    "        s = coefs.shape[1]\n",
    "        \n",
    "        sq_coefs = coefs.squeeze(-1)\n",
    "        ones_coefs = torch.ones_like(sq_coefs, dtype=torch.float32).requires_grad_(False)\n",
    "        \n",
    "        pos_input = POSITION_MATRIX[:s,:s]\n",
    "        # pos_input = s x s\n",
    "        pos_input = einops.repeat(pos_input, 's1 s2 -> b s1 s2 l', b=b, l=1)\n",
    "        # pos_input = b x s x s x 1\n",
    "        \n",
    "        coefs = torch.cat([coefs, pos_input], axis=3)\n",
    "        \n",
    "        agg_windows = [coefs, ]\n",
    "        \n",
    "        for w in self.windows:\n",
    "            max_coef = getattr(self, f'window_{w}_max')(sq_coefs).unsqueeze(-1)\n",
    "            # max_coef = b * s x s x 1\n",
    "            agg_windows.append(max_coef)\n",
    "                    \n",
    "            avg_coef = getattr(self, f'window_{w}_avg')(sq_coefs).unsqueeze(-1)\n",
    "            # avg_coef = b * s x s x 1\n",
    "            agg_windows.append(avg_coef)\n",
    "            \n",
    "            prc_coef = getattr(self, f'window_{w}_avg')(ones_coefs).unsqueeze(-1)\n",
    "            agg_windows.append(prc_coef)\n",
    "        \n",
    "        agg_windows = torch.cat(agg_windows, axis=-1)\n",
    "        # agg_windows = b x s x s x cnt_windows * 2 + 2\n",
    "        \n",
    "        coefs = torch.sigmoid(self.agg_lay(agg_windows))\n",
    "        # coefs = b x s x s x 1\n",
    "        if ptime:\n",
    "            print(f'ConnectionCoefPool, forward time: {time.time()-t0}')\n",
    "        return coefs\n",
    "\n",
    "    def init_optims(self, opt_type, lr):\n",
    "        self.opt = getattr(optim, opt_type)([self.agg_lay.weight, self.agg_lay.bias], lr=lr)\n",
    "\n",
    "    def set_lr(self, lr_weight, lr_bias):\n",
    "        pass\n",
    "\n",
    "    def step(self):\n",
    "        self.opt.step()\n",
    "        \n",
    "    def zero_grad(self):\n",
    "        self.opt.zero_grad()\n",
    "\n",
    "    def clip_grad(self, maxg=1e-2):\n",
    "        pass\n",
    "\n",
    "    def count_params(self):\n",
    "        return 0"
   ]
  },
  {
   "cell_type": "code",
   "execution_count": 82,
   "id": "f848cdc9-5983-47f9-85e6-dac06bf0d0e7",
   "metadata": {},
   "outputs": [],
   "source": [
    "ConnectionCoef = ConnectionCoefPool"
   ]
  },
  {
   "cell_type": "markdown",
   "id": "58270ba8-e742-43e7-b9ac-0b5fcd14bcf6",
   "metadata": {
    "tags": []
   },
   "source": [
    "## AttentionBlock"
   ]
  },
  {
   "cell_type": "code",
   "execution_count": 128,
   "id": "99fd2bdb-c6b3-41f5-8149-85f969de385f",
   "metadata": {},
   "outputs": [],
   "source": [
    "class AttentionBlock(nn.Module):\n",
    "\n",
    "    def __init__(self, max_seq_len, conn_size, seed=0):\n",
    "        super(AttentionBlock, self).__init__()\n",
    "        self.score_net = FFNet(conn_size, 1, activation=torch.tanh, seed=seed)\n",
    "        self.agg_net = ConnectionCoef(max_seq_len=max_seq_len, seed=seed+1)\n",
    "        self.softmax = nn.Softmax(dim=-1)\n",
    "        self.mask = torch.ones((max_seq_len, max_seq_len), dtype=torch.float32).requires_grad_(False)\n",
    "        self.mask = (self.mask - torch.diag(torch.tensor([1]*max_seq_len))).requires_grad_(False)\n",
    "    \n",
    "    def forward(self, h_ext_w, conn, pad_mask, ptime=False):\n",
    "        # h_ext_w = b x s x s x h\n",
    "        # conn = b x s x s x c\n",
    "        t0 = time.time()\n",
    "        b, s, _, _ = conn.shape\n",
    "        \n",
    "        \n",
    "        self_mask = einops.repeat(self.mask[:s,:s].unsqueeze(-1), 's1 s2 v -> b s1 s2 v', b=b)\n",
    "        # self_mask = b x s x s x 1\n",
    "        \n",
    "        full_mask = (pad_mask * self_mask).requires_grad_(False)\n",
    "        scores = self.score_net.forward(conn)\n",
    "        scores = full_mask * scores\n",
    "        # scores = b x s x s x 1\n",
    "        \n",
    "        att = self.agg_net.forward(scores) * 5\n",
    "        att = full_mask * att\n",
    "        # att = b x s x s x 1\n",
    "        \n",
    "        att = self.softmax(att.squeeze(-1)).unsqueeze(-1)\n",
    "        # att = b x s x s x 1\n",
    "        \n",
    "        h_agg = (h_ext_w * att).sum(axis=2)\n",
    "        # h_agg = b x s x h\n",
    "        \n",
    "        if ptime:\n",
    "            print(f'AttentionBlock, forward time: {time.time()-t0}')\n",
    "        return h_agg\n",
    "    \n",
    "    def init_optims(self, opt_type, lr):\n",
    "        self.score_net.init_optims(opt_type, lr)\n",
    "        self.agg_net.init_optims(opt_type, lr)\n",
    "        \n",
    "    def set_lr(self, lr_weight, lr_bias):\n",
    "        pass\n",
    "\n",
    "    def step(self):\n",
    "        self.score_net.step()\n",
    "        self.agg_net.step()\n",
    "\n",
    "    def zero_grad(self):\n",
    "        self.score_net.zero_grad()\n",
    "        self.agg_net.zero_grad()\n",
    "\n",
    "    def clip_grad(self, maxg=1e-2):\n",
    "        pass\n",
    "\n",
    "    def count_params(self):\n",
    "        return 0"
   ]
  },
  {
   "cell_type": "markdown",
   "id": "df4d29f2-7be7-49b7-8612-0265d4886dcb",
   "metadata": {},
   "source": [
    "## GeneralBlock"
   ]
  },
  {
   "cell_type": "code",
   "execution_count": 129,
   "id": "9b409560-dddd-445c-aca7-a4f8fa214752",
   "metadata": {},
   "outputs": [],
   "source": [
    "class GeneralBlock(nn.Module):\n",
    "\n",
    "    def __init__(self, input_size, output_size, conn_size, max_seq_len, cnt_attentions=1, lvl=0, seed=0):\n",
    "        super(GeneralBlock, self).__init__()\n",
    "        self.lvl = lvl\n",
    "        self.cnt_attentions = cnt_attentions\n",
    "        self.input_size = input_size\n",
    "        self.output_size = output_size\n",
    "        self.conn_size = conn_size\n",
    "        \n",
    "        self.conn_net = FFNet(2 * input_size, conn_size, activation=torch.tanh, seed=100*lvl + seed)\n",
    "        self.conn_coefs = FFNet(2 * input_size, 1, activation=torch.sigmoid, seed=100*lvl+ 10 + seed)\n",
    "        self.agg_conn_coefs = ConnectionCoef(max_seq_len=max_seq_len, seed=100*lvl+seed)\n",
    "        \n",
    "        self.att_blocks = [\n",
    "            AttentionBlock(max_seq_len=max_seq_len, conn_size=conn_size, seed=100*lvl + 10*i + seed) \n",
    "            for i in range(1, self.cnt_attentions + 1)\n",
    "        ]\n",
    "        self.process_hidden = FFNet(input_size*(cnt_attentions + 1), output_size, activation=torch.tanh, seed=100*lvl + 20 + seed)\n",
    "    \n",
    "    def forward(self, h, conn, pad_mask, beta, ptime=False):\n",
    "        # h = b x s x h\n",
    "        # conn = b x s x s x c\n",
    "        # pad_mask = b x s x s x 1\n",
    "        \n",
    "        t0 = time.time()\n",
    "        h_ext_w = einops.repeat(h, 'b s1 h -> b s2 s1 h', s2=h.shape[1])\n",
    "        h_ext_h = einops.repeat(h, 'b s1 h -> b s1 s2 h', s2=h.shape[1])\n",
    "        \n",
    "\n",
    "        \n",
    "        hh = torch.cat([h_ext_h, h_ext_w], axis=-1)\n",
    "        conn_tmp = self.conn_net.forward(hh)\n",
    "        conn_tmp = conn_tmp * pad_mask\n",
    "        \n",
    "        # conn_tmp = b x s x s x c\n",
    "        coef = self.conn_coefs.forward(hh, ptime=False)\n",
    "        coef = coef * pad_mask\n",
    "        # coef = b x s x s x 1\n",
    "        \n",
    "        coef = self.agg_conn_coefs.forward(coef, ptime=False)\n",
    "        # coef = coef * pad_mask - Лишнее\n",
    "        # coef = b x s x s x 1\n",
    "        \n",
    "        conn_tmp = conn_tmp * coef\n",
    "        # conn_tmp = b x s x s x c\n",
    "        \n",
    "        # Transpose matrix\n",
    "        conn_tmp2 = einops.rearrange(conn_tmp, 'b s1 s2 c -> b s2 s1 c')\n",
    "        conn_tmp = (conn_tmp + conn_tmp2) / 2\n",
    "        \n",
    "        \n",
    "        if beta == 1 or self.lvl == 0:\n",
    "            conn = conn_tmp\n",
    "        else:\n",
    "            conn = (1 - beta) * conn + beta * conn_tmp\n",
    "        # conn = b x s x s x c\n",
    "        \n",
    "        agg_h = [h,]\n",
    "        for i in range(self.cnt_attentions):\n",
    "            agg_h.append(self.att_blocks[i].forward(h_ext_w, conn, pad_mask, ptime=False))\n",
    "            # h_agg = b x s x h\n",
    "        h = self.process_hidden.forward(torch.cat(agg_h, axis=-1), ptime=False)\n",
    "        # h = b x s x h_new\n",
    "        \n",
    "        if ptime:\n",
    "            print(f'GeneralBlock, forward time: {time.time()-t0}')\n",
    "        \n",
    "        return h, conn\n",
    "    \n",
    "    def init_optims(self, opt_type, lr):\n",
    "        self.conn_net.init_optims(opt_type, lr)\n",
    "        self.conn_coefs.init_optims(opt_type, lr)\n",
    "        self.agg_conn_coefs.init_optims(opt_type, lr)\n",
    "        self.process_hidden.init_optims(opt_type, lr)\n",
    "        \n",
    "        for att in self.att_blocks:\n",
    "            att.init_optims(opt_type, lr)\n",
    "\n",
    "    def set_lr(self, lr_weight, lr_bias):\n",
    "        pass\n",
    "\n",
    "    def step(self):\n",
    "        self.conn_net.step()\n",
    "        self.conn_coefs.step()\n",
    "        self.agg_conn_coefs.step()\n",
    "        self.process_hidden.step()\n",
    "        \n",
    "        for att in self.att_blocks:\n",
    "            att.step()\n",
    "\n",
    "    def zero_grad(self):\n",
    "        self.conn_net.zero_grad()\n",
    "        self.conn_coefs.zero_grad()\n",
    "        self.agg_conn_coefs.zero_grad()\n",
    "        self.process_hidden.zero_grad()\n",
    "        \n",
    "        for att in self.att_blocks:\n",
    "            att.zero_grad()\n",
    "\n",
    "    def clip_grad(self, maxg=1e-2):\n",
    "        pass\n",
    "\n",
    "    def count_params(self):\n",
    "        return 0"
   ]
  },
  {
   "cell_type": "markdown",
   "id": "280912b0-f047-4c6c-8579-0c65e7b6b3e6",
   "metadata": {},
   "source": [
    "## Multi Blocks"
   ]
  },
  {
   "cell_type": "code",
   "execution_count": 258,
   "id": "3ebcba62-4fca-4192-ae8e-1a45ed13d245",
   "metadata": {},
   "outputs": [],
   "source": [
    "class MultiBlocks(nn.Module):\n",
    "\n",
    "    def __init__(self, sizes, conn_size, max_seq_len, cnt_attentions=1, seed=0):\n",
    "        super(MultiBlocks, self).__init__()\n",
    "        self.sizes = sizes\n",
    "        self.conn_size = conn_size\n",
    "        self.max_seq_len = max_seq_len\n",
    "        self.cnt_attentions = cnt_attentions\n",
    "        self.seed = seed\n",
    "        \n",
    "        \n",
    "        self.general_blocks = [\n",
    "            GeneralBlock(\n",
    "                input_size=inp_sz, \n",
    "                output_size=self.sizes[lvl+1], \n",
    "                conn_size=conn_size, \n",
    "                max_seq_len=max_seq_len, \n",
    "                cnt_attentions=cnt_attentions, \n",
    "                lvl=lvl, seed=seed\n",
    "            ) \n",
    "            for lvl, inp_sz in enumerate(self.sizes[:-1])\n",
    "        ]\n",
    "        \n",
    "    def forward(self, h, conn, pad_mask, beta, ptime=False):\n",
    "        # h = b x s x h\n",
    "        # conn = b x s x s x c\n",
    "        \n",
    "        t0 = time.time()\n",
    "        \n",
    "        new_hidden = []\n",
    "        for block in self.general_blocks:\n",
    "            h, conn = block.forward(h, conn, pad_mask, beta, ptime=False)\n",
    "            new_hidden.append(h)\n",
    "        \n",
    "        if ptime:\n",
    "            print(f'MultiBlock, forward time: {time.time()-t0}')\n",
    "        return new_hidden, conn\n",
    "\n",
    "    def add_gblock(self, output_size):\n",
    "        self.general_blocks.append(\n",
    "            GeneralBlock(\n",
    "                input_size=self.sizes[-1], \n",
    "                output_size=output_size, \n",
    "                conn_size=self.conn_size, \n",
    "                max_seq_len=self.max_seq_len, \n",
    "                cnt_attentions=self.cnt_attentions, \n",
    "                lvl=len(self.sizes), seed=seed\n",
    "            )\n",
    "        )\n",
    "        self.sizes.append(output_size)\n",
    "        \n",
    "    def init_optims(self, opt_type, lr):\n",
    "        for gblock in self.general_blocks:\n",
    "            gblock.init_optims(opt_type, lr)\n",
    "\n",
    "    def set_lr(self, lr_weight, lr_bias):\n",
    "        pass\n",
    "\n",
    "    def step(self):\n",
    "        for gblock in self.general_blocks:\n",
    "            gblock.step()\n",
    "        \n",
    "    def zero_grad(self):\n",
    "        for gblock in self.general_blocks:\n",
    "            gblock.zero_grad()\n",
    "\n",
    "    def clip_grad(self, maxg=1e-2):\n",
    "        pass\n",
    "\n",
    "    def count_params(self):\n",
    "        return 0"
   ]
  },
  {
   "cell_type": "markdown",
   "id": "d36c809f-7feb-4ef7-926e-0a2b0e8aec24",
   "metadata": {},
   "source": [
    "## Tokens Embeding (No categories)"
   ]
  },
  {
   "cell_type": "code",
   "execution_count": 131,
   "id": "d1c8f7f3-e66d-4e95-840b-7f5d95b50e3d",
   "metadata": {},
   "outputs": [],
   "source": [
    "class TokensEmbeding(nn.Module):\n",
    "\n",
    "    def __init__(self, cnt_tokens, cnt_meanings, meaning_embeding, seed=0):\n",
    "        super(TokensEmbeding, self).__init__()\n",
    "        self.cnt_tokens = cnt_tokens\n",
    "        self.cnt_meanings = cnt_meanings\n",
    "        self.meaning_embeding = meaning_embeding\n",
    "        \n",
    "        self.token_embedings = nn.Embedding(self.cnt_tokens, self.cnt_meanings * self.meaning_embeding)\n",
    "        \n",
    "    def init_weights(self, seed):\n",
    "        torch.manual_seed(seed)\n",
    "        torch.manual_seed(3)\n",
    "        self.token_embedings.weight.data.uniform_(-1, 1)\n",
    "        \n",
    "\n",
    "    def forward(self, batch, ptime=False):\n",
    "        # batch = batch x seq_len x 1+negative x 1     \n",
    "        t0 = time.time()\n",
    "        b, s, _ = batch.shape\n",
    "        \n",
    "        batch = self.token_embedings(batch)\n",
    "        # batch = batch x seq_len x (1+negative) x (cnt_meanings * emb)\n",
    "\n",
    "        batch = einops.rearrange(batch, 'b s c (m e) -> b s (c m) e', m=self.cnt_meanings, e=self.meaning_embeding)\n",
    "        # batch = batch x seq_len x ((1+negative) * cnt_meanings) x emb\n",
    "        \n",
    "        if ptime:\n",
    "            print(f'TokensEmbeding, forward time: {time.time()-t0}')\n",
    "        return batch\n",
    "    \n",
    "    \n",
    "    def init_optims(self, opt_type, lr):\n",
    "        self.opt = getattr(optim, opt_type)([self.token_embedings.weight], lr=lr)\n",
    "\n",
    "    def set_lr(self, lr_weight, lr_bias):\n",
    "        pass\n",
    "\n",
    "    def step(self):\n",
    "        self.opt.step()\n",
    "        \n",
    "    def zero_grad(self):\n",
    "        self.opt.zero_grad()\n",
    "\n",
    "    def clip_grad(self, maxg=1e-2):\n",
    "        pass\n",
    "\n",
    "    def count_params(self):\n",
    "        return 0"
   ]
  },
  {
   "cell_type": "markdown",
   "id": "088e7fa5-d051-443c-8866-9596a9931381",
   "metadata": {},
   "source": [
    "# Train"
   ]
  },
  {
   "cell_type": "markdown",
   "id": "c2274cd9-431f-48ca-b5e0-6fc244584133",
   "metadata": {
    "tags": []
   },
   "source": [
    "## Utils Functions"
   ]
  },
  {
   "cell_type": "code",
   "execution_count": 132,
   "id": "d55a0212-d1ed-4f4c-91b6-425373cc296b",
   "metadata": {
    "tags": []
   },
   "outputs": [],
   "source": [
    "# @lru_cache(maxsize=1000)\n",
    "def change_tokens(tkid):\n",
    "    new_tk = ALL_VOCAB['First_Second'][tkid]\n",
    "    # return new_tk.tid\n",
    "    return (new_tk.tid, int(new_tk.title), int(new_tk.upper), int(new_tk.part), int(new_tk.w_end))\n",
    "\n",
    "v_change_tokens = np.vectorize(change_tokens)\n",
    "\n",
    "def preprocess_batch(batch):\n",
    "    return np.stack(v_change_tokens(batch), axis=2)\n",
    "\n",
    "\n",
    "def reorder_posistions(matrix, wpos):\n",
    "    sz, _ = matrix.shape\n",
    "    indx = [wpos,] + [i for i in range(sz) if i != wpos]\n",
    "    return matrix[indx,:][:,indx]\n",
    "\n",
    "def reorder_tokens(marix, w0):\n",
    "    matrix = np.array([\n",
    "        marix[i,[w0[i],] + [j for j in range(marix.shape[1]) if j != w0[i]]] \n",
    "        for i in range(marix.shape[0])\n",
    "    ])\n",
    "    return matrix\n",
    "\n",
    "def negative_tokens(tkid, cnt, with_positive=False):\n",
    "    neg_set = set()\n",
    "    if with_positive:\n",
    "        cnt += 1\n",
    "        \n",
    "    while len(neg_set) != cnt:\n",
    "        tmp_set = set(np.random.randint(0, high=len(ALL_VOCAB['Second']), size=cnt - len(neg_set), dtype=int))\n",
    "        if not with_positive:\n",
    "            tmp_set = tmp_set - {tkid}\n",
    "        neg_set = neg_set | tmp_set\n",
    "    return tuple(neg_set)\n",
    "\n",
    "v_negative_tokens = np.vectorize(negative_tokens)"
   ]
  },
  {
   "cell_type": "code",
   "execution_count": 133,
   "id": "1f442047-c1ed-4cfc-9005-819264810885",
   "metadata": {},
   "outputs": [],
   "source": [
    "def init_optims(nets, opt_type, lr):\n",
    "    for net in nets:\n",
    "        if type(net) is list:\n",
    "            for subnet in net:\n",
    "                subnet.init_optims(opt_type, lr)\n",
    "        else:\n",
    "            net.init_optims(opt_type, lr)\n",
    "            \n",
    "def zero_grad(nets):\n",
    "    for net in nets:\n",
    "        if type(net) is list:\n",
    "            for subnet in net:\n",
    "                subnet.zero_grad()\n",
    "        else:\n",
    "            net.zero_grad()\n",
    "            \n",
    "def step_grad(nets):\n",
    "    for net in nets:\n",
    "        if type(net) is list:\n",
    "            for subnet in net:\n",
    "                subnet.step()\n",
    "        else:\n",
    "            net.step()"
   ]
  },
  {
   "cell_type": "markdown",
   "id": "e0cbd921-5dcf-411d-8729-41ab750ec55b",
   "metadata": {},
   "source": [
    "## Parameters"
   ]
  },
  {
   "cell_type": "code",
   "execution_count": 259,
   "id": "a89dc88d-e16f-4f0d-bc3b-287dba50c7ef",
   "metadata": {
    "tags": []
   },
   "outputs": [],
   "source": [
    "MAX_SEQ_LEN = 1024\n",
    "TOKEN_ENCODING_SIZE = 4\n",
    "CNT_PROPS = 4\n",
    "TOKEN_ENCODING_MIN_VALUE = -1\n",
    "PAD_ID = wrapped_tokenizer.pad_token_id\n",
    "MASK_ID = 0\n",
    "\n",
    "HIDDEN_SIZES = [8, 16, 32] # , 64, 128]\n",
    "CONN_SIZE = 20\n",
    "CNT_ATTANTIONS = 5\n",
    "\n",
    "CNT_MEANINGS = 10\n",
    "MEANINGS_SIZE = 64\n",
    "\n",
    "BETA = 0.8\n",
    "CNT_NEGATIVE = 5\n",
    "LAST_PREDICT = 1\n",
    "LOSS_COEFF = [1,]\n",
    "\n",
    "LOSS_PROPERTY_COEFF = 0.2\n",
    "LOSS_NEGATIVE_COEF = 0.1\n",
    "LOSS_MAX_COEF = 1\n",
    "LOSS_SUM_COEF = 0.01\n",
    "NOT_MASKED_COEF = 0.5\n",
    "\n",
    "POSITION_MATRIX = np.array([[(-1 if i > j else 1) * np.log(1 + abs(j-i)) for j in range(MAX_SEQ_LEN)] for i in range(MAX_SEQ_LEN)])\n",
    "POSITION_MATRIX = POSITION_MATRIX / np.log(MAX_SEQ_LEN)\n",
    "POSITION_MATRIX = torch.tensor(POSITION_MATRIX, dtype=torch.float32).requires_grad_(False)"
   ]
  },
  {
   "cell_type": "markdown",
   "id": "406933b4-91ff-4f54-a954-46e2fae69e2f",
   "metadata": {},
   "source": [
    "## Define Nets"
   ]
  },
  {
   "cell_type": "code",
   "execution_count": 260,
   "id": "0a09a1b8-66cf-48e2-b76c-e83c0830453b",
   "metadata": {},
   "outputs": [],
   "source": [
    "net_token_enc = TokensEncoding(\n",
    "    cnt_tokens=len(ALL_VOCAB['Second']) + 1, \n",
    "    encoding_size=TOKEN_ENCODING_SIZE, \n",
    "    min_value=TOKEN_ENCODING_MIN_VALUE, \n",
    "    seed=0\n",
    ")\n",
    "net_multi_blocks = MultiBlocks(\n",
    "    sizes=HIDDEN_SIZES, \n",
    "    conn_size=CONN_SIZE, \n",
    "    max_seq_len=MAX_SEQ_LEN, \n",
    "    cnt_attentions=CNT_ATTANTIONS, \n",
    "    seed=0\n",
    ")\n",
    "\n",
    "token_embeding_net = TokensEmbeding(\n",
    "    len(ALL_VOCAB['Second']), \n",
    "    cnt_meanings=CNT_MEANINGS, \n",
    "    meaning_embeding=MEANINGS_SIZE, \n",
    "    seed=0\n",
    ")\n",
    "\n",
    "meaning_pred_net = FFNet(input_size=HIDDEN_SIZES[-1] + MEANINGS_SIZE, output_size=1, activation=torch.sigmoid, seed=0) \n",
    "props_pred_net = FFNet(input_size=HIDDEN_SIZES[-1], output_size=CNT_PROPS, activation=torch.sigmoid, seed=0) "
   ]
  },
  {
   "cell_type": "markdown",
   "id": "e023a6b4-ec6f-482c-822d-50db3fcc9179",
   "metadata": {},
   "source": [
    "## Train Function"
   ]
  },
  {
   "cell_type": "code",
   "execution_count": 261,
   "id": "366941cc-7317-44f5-843b-6b970bf8f4c2",
   "metadata": {},
   "outputs": [],
   "source": [
    "def step_1(batch, pad, mask, max_len):\n",
    "    # Prepare Batch\n",
    "    batch_size = batch.shape[0]\n",
    "    batch_len = batch.shape[1] - (batch == pad).sum(axis=1) # Определеям длины последовательностей в батче, (Batch,)\n",
    "    seq_len = max(batch_len)\n",
    "    \n",
    "    max_len = min(seq_len, max_len)\n",
    "    min_len = 10\n",
    "    choosen_len = random.choice(range(min_len, max_len + 1))\n",
    "    indx = [0 if ln <= choosen_len else random.choice(range(ln - choosen_len + 1)) for ln in batch_len]\n",
    "    batch = [batch[i, pos:pos+choosen_len] for i,pos in enumerate(indx)]\n",
    "    batch = np.stack(batch, axis=0)\n",
    "    batch_len = np.where(batch_len < choosen_len, batch_len, choosen_len)\n",
    "    \n",
    "    # if seq_len < batch.shape[1]:\n",
    "    #     batch = batch[:, :seq_len] # Если максимальная длина меньше дефолтной, ограничиваем массив\n",
    "    \n",
    "    # Делаем замену начальных токенов на новые токены + фичи + Негативный сэмплинг\n",
    "    batch = preprocess_batch(batch)\n",
    "    \n",
    "    true_tokens = torch.tensor(batch[:,:,0], dtype=torch.int).requires_grad_(False) \n",
    "    true_properties = torch.tensor(batch[:,:,1:], dtype=torch.float32).requires_grad_(False)\n",
    "    \n",
    "    masked_tokens = batch[:,:,0]\n",
    "    masked_positions = [random.randint(0, x-1) for x in batch_len]\n",
    "    masked_tokens[range(batch_size), masked_positions] = mask\n",
    "    masked_tokens = torch.tensor(masked_tokens, dtype=torch.int).requires_grad_(False) \n",
    "    \n",
    "    masked_properties = batch[:,:,1:]\n",
    "    masked_properties[range(batch_size), masked_positions, :] = 0\n",
    "    masked_properties = torch.tensor(masked_properties, dtype=torch.float32).requires_grad_(False)\n",
    "    \n",
    "    pad_mask_1 = torch.tensor(\n",
    "        [[1,] * x + [0,] * (choosen_len - x) for x in list(batch_len)], \n",
    "        dtype=torch.float32\n",
    "    ).unsqueeze(-1).requires_grad_(False)\n",
    "    \n",
    "    pad_mask_2 = [\n",
    "        [\n",
    "            [1 if (i < batch_len[b] and j < batch_len[b]) else 0 for j in range(choosen_len)]\n",
    "            for i in range(choosen_len)\n",
    "        ] for b in range(batch_size)\n",
    "    ]\n",
    "    pad_mask_2 = torch.tensor(pad_mask_2, dtype=torch.float32).unsqueeze(-1).requires_grad_(False)\n",
    "    return (batch_size, batch_len, seq_len, pad_mask_1, pad_mask_2, true_tokens, true_properties, \n",
    "            masked_positions, masked_tokens, masked_properties)\n",
    "\n",
    "def step_2(tokens, properties, token_enc_net, main_net, beta, seq_len, pad_mask):\n",
    "    # Forward batch\n",
    "    batch_size = tokens.shape[0]\n",
    "    \n",
    "    tk_enc = token_enc_net.forward(tokens)\n",
    "    # tk_enc = batch x seq_len x enc\n",
    "    \n",
    "    tk_enc = torch.cat([tk_enc, properties], axis=-1)\n",
    "    # tk_enc = batch x seq_len x enc + props\n",
    "    \n",
    "    conn_matrix = torch.zeros((batch_size, seq_len, seq_len, main_net.conn_size)).requires_grad_(False).type(torch.float32)\n",
    "    list_tk_enc, conn_matrix = main_net.forward(tk_enc, conn_matrix, pad_mask, beta, ptime=False)\n",
    "    \n",
    "    return list_tk_enc, conn_matrix\n",
    "\n",
    "\n",
    "def step3(batch, token_emb_net, cnt_negative):\n",
    "    # Embeding tokens + Negative\n",
    "    if cnt_negative != 0:\n",
    "        negative_batch = torch.tensor(\n",
    "            np.stack(v_negative_tokens(batch, cnt_negative, True), axis=2), \n",
    "            dtype=torch.int\n",
    "        ).requires_grad_(False)\n",
    "    else:\n",
    "        negative_batch = batch.unsqueeze(2)\n",
    "    # negative_batch = b x s x (1 + cnt_negative) x 1\n",
    "    \n",
    "    negative_batch = token_emb_net.forward(negative_batch)\n",
    "    # negative_batch = b x s x ((1 + cnt_negative) * cnt_meanings) x emb\n",
    "    return negative_batch\n",
    "    \n",
    "def step4(pred_tokens_encoding, fact_token_embeding, meaning_pred_net, props_pred_net, last_pred=1):\n",
    "    # pred_tokens_encoding (list) = rounds x b x s x h\n",
    "    # fact_token_embeding = b x s x ((1+cnt_negative)*cnt_meanings) x emb\n",
    "    scores = []\n",
    "    props = []\n",
    "    for i in range(1, 10000):\n",
    "        h = einops.repeat(pred_tokens_encoding[-i], 'b s h -> b s rp h', rp = fact_token_embeding.shape[2])\n",
    "        round_scores = meaning_pred_net.forward(torch.cat([h,fact_token_embeding], axis=-1)).squeeze()\n",
    "        scores.append(round_scores)\n",
    "        \n",
    "        props_pred = props_pred_net.forward(pred_tokens_encoding[-i])\n",
    "        props.append(props_pred)\n",
    "        if i == last_pred:\n",
    "            break\n",
    "    return scores[::-1], props[::-1]\n",
    "\n",
    "def step5(scores, pred_props, fact_props, cnt_negative, cnt_meanings, loss_coeff, pad_mask, masked_positions,\n",
    "          prop_coef, negative_coef, max_coef, sum_coef, not_masked_coef):\n",
    "    bce_none_loss = torch.nn.BCELoss(reduction='none')\n",
    "    l2_none_loss = torch.nn.MSELoss(reduction='none')\n",
    "    \n",
    "    # Loss Calculation\n",
    "    if len(scores) == 1:\n",
    "        scores = scores[0].unsqueeze(0)\n",
    "    else:\n",
    "        scores = einops.rearrange(scores,'r b s v -> r b s v')\n",
    "        \n",
    "    if len(pred_props) == 1:\n",
    "        pred_props = pred_props[0].unsqueeze(0)\n",
    "    else:\n",
    "        pred_props = einops.rearrange(pred_props,'r b s v -> r b s v')\n",
    "    \n",
    "    r, b, s, v = scores.shape\n",
    "    _, _, p = fact_props.shape\n",
    "    \n",
    "    loss_coeff = torch.tensor(loss_coeff, dtype=torch.float32).requires_grad_(False)\n",
    "    loss_coeff = einops.repeat(loss_coeff,'r -> r b s v', b=b, s=s, v=1)\n",
    "    pad_mask_ext = einops.repeat(pad_mask,'b s v -> r b s v', r=r).requires_grad_(False)\n",
    "    # pad_mask_ext = rounds_agg x batch x seq_len x 1\n",
    "    \n",
    "    masked_mask = torch.full((b, s, 1), not_masked_coef, dtype=torch.float32).requires_grad_(False)\n",
    "    masked_mask[range(b), masked_positions, 0] = 1\n",
    "    masked_mask = einops.repeat(masked_mask,'b s v -> r b s v', r=r).requires_grad_(False)\n",
    "    \n",
    "    fact_props = einops.repeat(fact_props,'b s p -> r b s p', r=r).requires_grad_(False)\n",
    "    # fact_props = rounds_agg x batch x seq_len x cnt_props\n",
    "    \n",
    "    loss_props = bce_none_loss(pred_props, fact_props)\n",
    "    # loss_props = rounds_agg x batch x seq_len x cnt_props\n",
    "    \n",
    "    loss_props_mask = loss_props * loss_coeff * pad_mask_ext * masked_mask\n",
    "    # loss_props_mask = rounds_agg x batch x seq_len x cnt_props\n",
    "    \n",
    "    true_part = scores[:,:,:,:cnt_meanings]\n",
    "    neg_part = scores[:,:,:,cnt_meanings:]\n",
    "    _, _, _, cnt_negs = neg_part.shape\n",
    "    fact_neg = torch.zeros_like(neg_part, dtype=torch.float32).requires_grad_(False)\n",
    "\n",
    "    loss_negs = bce_none_loss(neg_part, fact_neg)\n",
    "    # loss_negs = rounds_agg x batch x seq_len x (cnt_negative * cnt_meanings)\n",
    "    \n",
    "    loss_negs_mask = loss_negs * loss_coeff * pad_mask_ext * masked_mask\n",
    "    # loss_negs_mask = rounds_agg x batch x seq_len x (cnt_negative * cnt_meanings)\n",
    "\n",
    "    max_pred = true_part.max(axis=-1)[0]\n",
    "    # max_pred = rounds_agg x batch x seq_len\n",
    "\n",
    "    fact_pos = torch.ones_like(max_pred, dtype=torch.float32).requires_grad_(False)\n",
    "    \n",
    "    loss_max = bce_none_loss(max_pred, fact_pos)\n",
    "    # loss_max = rounds_agg x batch x seq_len\n",
    "    \n",
    "    loss_max_mask = loss_max * loss_coeff.squeeze(-1) * pad_mask_ext.squeeze(-1) * masked_mask.squeeze(-1)\n",
    "    # loss_max_mask = rounds_agg x batch x seq_len\n",
    "    \n",
    "    sum_pred = true_part.sum(axis=-1)\n",
    "    # sum_pred = rounds_agg x batch x seq_len\n",
    "    \n",
    "    loss_sum = l2_none_loss(sum_pred, fact_pos)\n",
    "    # loss_poss_max = rounds_agg x batch x seq_len\n",
    "    \n",
    "    loss_sum_mask = loss_sum * loss_coeff.squeeze(-1) * pad_mask_ext.squeeze(-1) * masked_mask.squeeze(-1)\n",
    "    # loss_poss_max_mask = rounds_agg x batch x seq_len\n",
    "    \n",
    "    cnt_not_pad = pad_mask.sum()\n",
    "    \n",
    "    \n",
    "    loss_props = loss_props.sum() / (r * cnt_not_pad * p)\n",
    "    loss_props_mask = loss_props_mask.sum() / (r * cnt_not_pad * p)\n",
    "    loss_negs = loss_negs.sum() / (r * cnt_not_pad * cnt_negs)\n",
    "    loss_negs_mask = loss_negs_mask.sum() / (r * cnt_not_pad * cnt_negs)\n",
    "    loss_max = loss_max.sum() / (r * cnt_not_pad)\n",
    "    loss_max_mask = loss_max_mask.sum() / (r * cnt_not_pad)\n",
    "    loss_sum = loss_sum.sum() / (r * cnt_not_pad)\n",
    "    loss_sum_mask = loss_sum_mask.sum() / (r * cnt_not_pad)\n",
    "    \n",
    "    \n",
    "    final_loss = prop_coef * loss_props_mask + \\\n",
    "        negative_coef * loss_negs_mask + \\\n",
    "        max_coef * loss_max_mask + \\\n",
    "        sum_coef * loss_sum_mask\n",
    "    \n",
    "    \n",
    "    losses_dict = {\n",
    "        'props': loss_props.item(),\n",
    "        'props_mask': loss_props_mask.item(),\n",
    "        'negative': loss_negs.item(),\n",
    "        'negative_mask': loss_negs_mask.item(),\n",
    "        'positive_max': loss_max.item(),\n",
    "        'positive_max_mask': loss_max_mask.item(),\n",
    "        'positive_sum': loss_sum.item(),\n",
    "        'positive_sum_mask': loss_sum_mask.item(),\n",
    "        'final': final_loss.item()\n",
    "    }\n",
    "    \n",
    "    final_loss.backward()\n",
    "    return losses_dict"
   ]
  },
  {
   "cell_type": "code",
   "execution_count": 266,
   "id": "57f98888-b3b8-4fb1-9fcd-7c78d798c095",
   "metadata": {},
   "outputs": [],
   "source": [
    "def process_batch(batch, \n",
    "                  token_enc_net, token_emb_net, main_net, meaning_pred_net, props_pred_net, \n",
    "                  pad, mask, beta, cnt_negative, last_pred, \n",
    "                  loss_coeff, prop_coef, negative_coef, max_coef, sum_coef, not_masked_coef,\n",
    "                  max_len, pprint=False\n",
    "                 ):\n",
    "    \n",
    "    # Препроцессинг батча\n",
    "    t0 = time.time()\n",
    "    (batch_size, batch_len, seq_len, pad_mask_1, pad_mask_2, \n",
    "         true_tokens, true_properties, masked_positions, masked_tokens, masked_properties) = step_1(batch, pad, mask, max_len)\n",
    "    if pprint:\n",
    "        t1 = time.time()\n",
    "        print(f'Step 1 {t1 - t0}')\n",
    "    \n",
    "    # Основная часть\n",
    "    list_tk_enc, conn_matrix = step_2(masked_tokens, masked_properties, token_enc_net, main_net, beta, seq_len, pad_mask_2)\n",
    "    if pprint:\n",
    "        t2 = time.time()\n",
    "        print(f'Step 2 {t2 - t1}')\n",
    "        \n",
    "    # Получение эмбедингов токенов\n",
    "    pos_neg_embs = step3(true_tokens, token_emb_net, cnt_negative)\n",
    "    if pprint:\n",
    "        t3 = time.time()\n",
    "        print(f'Step 3 {t3 - t2}')\n",
    "        \n",
    "    # Получение скоров токенов\n",
    "    scores, pred_props = step4(list_tk_enc, pos_neg_embs, meaning_pred_net, props_pred_net, last_pred=last_pred)\n",
    "    if pprint:\n",
    "        t4 = time.time()\n",
    "        print(f'Step 4 {t4 - t3}')\n",
    "    \n",
    "    # Получение лоссов\n",
    "    losses_dict = step5(scores, pred_props, true_properties, cnt_negative, token_emb_net.cnt_meanings, \n",
    "                        loss_coeff, pad_mask_1, masked_positions, prop_coef, negative_coef, max_coef, sum_coef, not_masked_coef)\n",
    "    if pprint:\n",
    "        t5 = time.time()\n",
    "        print(f'Step 5 {t5 - t4}')\n",
    "    \n",
    "    return losses_dict"
   ]
  },
  {
   "cell_type": "markdown",
   "id": "a0fd81fe-9b50-4ff0-8d10-3df913349303",
   "metadata": {},
   "source": [
    "## Checking Batch"
   ]
  },
  {
   "cell_type": "code",
   "execution_count": 263,
   "id": "9f33d6c6-5e96-4f11-b0d5-00c2b045d65a",
   "metadata": {},
   "outputs": [
    {
     "name": "stdout",
     "output_type": "stream",
     "text": [
      "(128, 30)\n"
     ]
    }
   ],
   "source": [
    "batch = train_tokens[:128,:]\n",
    "print(batch.shape)"
   ]
  },
  {
   "cell_type": "code",
   "execution_count": 264,
   "id": "9a6f899e-aaeb-48e4-a0d1-8f507d50f642",
   "metadata": {},
   "outputs": [
    {
     "name": "stdout",
     "output_type": "stream",
     "text": [
      "Step 1 0.02695178985595703\n",
      "Step 2 0.12224006652832031\n",
      "Step 3 0.037670135498046875\n",
      "Step 4 0.01474905014038086\n"
     ]
    }
   ],
   "source": [
    "# losses_dict = process_batch(\n",
    "# bce_none_loss, pred_props, fact_props = process_batch(\n",
    "scores, pred_props, tk_enc = process_batch(\n",
    "    batch = batch, \n",
    "    token_enc_net = net_token_enc, \n",
    "    token_emb_net = token_embeding_net,\n",
    "    main_net = net_multi_blocks,\n",
    "    meaning_pred_net = meaning_pred_net,\n",
    "    props_pred_net = props_pred_net,\n",
    "    pad = PAD_ID,\n",
    "    mask = MASK_ID,\n",
    "    beta = BETA, \n",
    "    cnt_negative = CNT_NEGATIVE,\n",
    "    last_pred = LAST_PREDICT,\n",
    "    loss_coeff = LOSS_COEFF,\n",
    "    prop_coef = LOSS_PROPERTY_COEFF,\n",
    "    negative_coef = LOSS_NEGATIVE_COEF,\n",
    "    max_coef = LOSS_MAX_COEF,\n",
    "    sum_coef = LOSS_SUM_COEF,\n",
    "    not_masked_coef = NOT_MASKED_COEF,\n",
    "    max_len= 20,\n",
    "    pprint=True\n",
    ")"
   ]
  },
  {
   "cell_type": "code",
   "execution_count": 265,
   "id": "2449d59a-c518-4ede-a2a0-e52b6fc9eb97",
   "metadata": {
    "tags": []
   },
   "outputs": [
    {
     "data": {
      "text/plain": [
       "tensor([[0.5387, 0.2856, 0.2579, 0.1404, 0.1281, 0.4086, 0.6416, 0.1717, 0.5823,\n",
       "         0.3594],\n",
       "        [0.4737, 0.6480, 0.1052, 0.2719, 0.3748, 0.6288, 0.6451, 0.2052, 0.8250,\n",
       "         0.2586],\n",
       "        [0.6249, 0.6899, 0.3969, 0.5424, 0.5072, 0.6809, 0.7240, 0.2493, 0.5009,\n",
       "         0.2218],\n",
       "        [0.4473, 0.1251, 0.8575, 0.1923, 0.1820, 0.7829, 0.3015, 0.6276, 0.8021,\n",
       "         0.8070],\n",
       "        [0.6782, 0.3351, 0.6568, 0.5495, 0.3792, 0.6486, 0.4774, 0.3750, 0.5332,\n",
       "         0.8160],\n",
       "        [0.8856, 0.1556, 0.1321, 0.4269, 0.2910, 0.7142, 0.2032, 0.5262, 0.5074,\n",
       "         0.4032],\n",
       "        [0.4204, 0.4581, 0.1722, 0.7242, 0.3463, 0.2962, 0.3519, 0.5897, 0.4581,\n",
       "         0.7699],\n",
       "        [0.6360, 0.2083, 0.7364, 0.6337, 0.6091, 0.5912, 0.8115, 0.1592, 0.7765,\n",
       "         0.5714],\n",
       "        [0.3976, 0.6855, 0.8356, 0.6972, 0.5452, 0.8317, 0.7959, 0.4456, 0.0962,\n",
       "         0.6441],\n",
       "        [0.6987, 0.6220, 0.4167, 0.0931, 0.1605, 0.4456, 0.2179, 0.2049, 0.4378,\n",
       "         0.7308],\n",
       "        [0.4550, 0.8420, 0.4803, 0.7252, 0.5330, 0.3505, 0.1345, 0.2113, 0.5533,\n",
       "         0.3279],\n",
       "        [0.4208, 0.4694, 0.5769, 0.4122, 0.0868, 0.3783, 0.4976, 0.6023, 0.9102,\n",
       "         0.4597],\n",
       "        [0.0490, 0.2524, 0.6881, 0.7936, 0.4537, 0.8716, 0.6595, 0.8474, 0.8105,\n",
       "         0.5433],\n",
       "        [0.6512, 0.6211, 0.6889, 0.4776, 0.5356, 0.1194, 0.5826, 0.2638, 0.8122,\n",
       "         0.1963],\n",
       "        [0.3012, 0.8263, 0.3702, 0.3937, 0.1054, 0.1765, 0.6630, 0.8112, 0.5524,\n",
       "         0.3420],\n",
       "        [0.4118, 0.3984, 0.2104, 0.4229, 0.4053, 0.7021, 0.2944, 0.6538, 0.1737,\n",
       "         0.7095]], grad_fn=<SliceBackward0>)"
      ]
     },
     "execution_count": 265,
     "metadata": {},
     "output_type": "execute_result"
    }
   ],
   "source": [
    "scores[0][0,:,:10]"
   ]
  },
  {
   "cell_type": "code",
   "execution_count": 239,
   "id": "fa3e945a-910d-44c4-8187-a3321e8e5821",
   "metadata": {
    "collapsed": true,
    "jupyter": {
     "outputs_hidden": true
    },
    "tags": []
   },
   "outputs": [
    {
     "data": {
      "text/plain": [
       "tensor([[[0.2615, 0.1310, 0.2789, 0.6611],\n",
       "         [0.2615, 0.1310, 0.2789, 0.6611],\n",
       "         [0.2615, 0.1310, 0.2789, 0.6611],\n",
       "         ...,\n",
       "         [0.2615, 0.1310, 0.2789, 0.6611],\n",
       "         [0.2615, 0.1310, 0.2789, 0.6611],\n",
       "         [0.2615, 0.1310, 0.2789, 0.6611]],\n",
       "\n",
       "        [[0.2615, 0.1310, 0.2789, 0.6611],\n",
       "         [0.2615, 0.1310, 0.2789, 0.6611],\n",
       "         [0.2615, 0.1310, 0.2789, 0.6611],\n",
       "         ...,\n",
       "         [0.2615, 0.1310, 0.2789, 0.6611],\n",
       "         [0.2615, 0.1310, 0.2789, 0.6611],\n",
       "         [0.2615, 0.1310, 0.2789, 0.6611]],\n",
       "\n",
       "        [[0.2615, 0.1310, 0.2789, 0.6611],\n",
       "         [0.2615, 0.1310, 0.2789, 0.6611],\n",
       "         [0.2615, 0.1310, 0.2789, 0.6611],\n",
       "         ...,\n",
       "         [0.2615, 0.1310, 0.2789, 0.6611],\n",
       "         [0.2615, 0.1310, 0.2789, 0.6611],\n",
       "         [0.2615, 0.1310, 0.2789, 0.6611]],\n",
       "\n",
       "        ...,\n",
       "\n",
       "        [[0.2615, 0.1310, 0.2789, 0.6611],\n",
       "         [0.2615, 0.1310, 0.2789, 0.6611],\n",
       "         [0.2615, 0.1310, 0.2789, 0.6611],\n",
       "         ...,\n",
       "         [0.2615, 0.1310, 0.2789, 0.6611],\n",
       "         [0.2615, 0.1310, 0.2789, 0.6611],\n",
       "         [0.2615, 0.1310, 0.2789, 0.6611]],\n",
       "\n",
       "        [[0.2615, 0.1310, 0.2789, 0.6611],\n",
       "         [0.2615, 0.1310, 0.2789, 0.6611],\n",
       "         [0.2615, 0.1310, 0.2789, 0.6611],\n",
       "         ...,\n",
       "         [0.2615, 0.1310, 0.2789, 0.6611],\n",
       "         [0.2615, 0.1310, 0.2789, 0.6611],\n",
       "         [0.2615, 0.1310, 0.2789, 0.6611]],\n",
       "\n",
       "        [[0.2615, 0.1310, 0.2789, 0.6611],\n",
       "         [0.2615, 0.1310, 0.2789, 0.6611],\n",
       "         [0.2615, 0.1310, 0.2789, 0.6611],\n",
       "         ...,\n",
       "         [0.2615, 0.1310, 0.2789, 0.6611],\n",
       "         [0.2615, 0.1310, 0.2789, 0.6611],\n",
       "         [0.2615, 0.1310, 0.2789, 0.6611]]], grad_fn=<SigmoidBackward0>)"
      ]
     },
     "execution_count": 239,
     "metadata": {},
     "output_type": "execute_result"
    }
   ],
   "source": [
    "pred_props[0]"
   ]
  },
  {
   "cell_type": "code",
   "execution_count": 257,
   "id": "7d9d1838-5c15-417b-833a-06370635539e",
   "metadata": {},
   "outputs": [
    {
     "data": {
      "text/plain": [
       "torch.Size([128, 11, 16])"
      ]
     },
     "execution_count": 257,
     "metadata": {},
     "output_type": "execute_result"
    }
   ],
   "source": [
    "tk_enc[0].shape"
   ]
  },
  {
   "cell_type": "code",
   "execution_count": 256,
   "id": "a376884b-a296-43d3-9fff-c7c044482ed9",
   "metadata": {},
   "outputs": [
    {
     "data": {
      "text/plain": [
       "tensor([[[-0.9997,  1.0000,  1.0000,  ..., -1.0000,  1.0000, -1.0000],\n",
       "         [-0.9997,  1.0000,  1.0000,  ..., -1.0000,  1.0000, -1.0000],\n",
       "         [-0.9996,  1.0000,  1.0000,  ..., -1.0000,  1.0000, -1.0000],\n",
       "         ...,\n",
       "         [-0.9997,  1.0000,  1.0000,  ..., -1.0000,  1.0000, -1.0000],\n",
       "         [-0.9997,  1.0000,  1.0000,  ..., -1.0000,  1.0000, -1.0000],\n",
       "         [-0.9996,  1.0000,  1.0000,  ..., -1.0000,  1.0000, -1.0000]],\n",
       "\n",
       "        [[-0.9933,  0.9999,  1.0000,  ..., -1.0000,  1.0000, -1.0000],\n",
       "         [-0.9927,  0.9999,  1.0000,  ..., -1.0000,  1.0000, -1.0000],\n",
       "         [-0.9927,  0.9999,  1.0000,  ..., -1.0000,  1.0000, -1.0000],\n",
       "         ...,\n",
       "         [-0.9931,  0.9999,  1.0000,  ..., -1.0000,  1.0000, -1.0000],\n",
       "         [-0.9929,  0.9999,  1.0000,  ..., -1.0000,  1.0000, -1.0000],\n",
       "         [-0.9933,  0.9999,  1.0000,  ..., -1.0000,  1.0000, -1.0000]],\n",
       "\n",
       "        [[-0.9938,  0.9999,  1.0000,  ..., -1.0000,  1.0000, -1.0000],\n",
       "         [-0.9939,  0.9999,  1.0000,  ..., -1.0000,  1.0000, -1.0000],\n",
       "         [-0.9942,  0.9999,  1.0000,  ..., -1.0000,  1.0000, -1.0000],\n",
       "         ...,\n",
       "         [-0.9941,  0.9999,  1.0000,  ..., -1.0000,  1.0000, -1.0000],\n",
       "         [-0.9940,  0.9999,  1.0000,  ..., -1.0000,  1.0000, -1.0000],\n",
       "         [-0.9937,  0.9999,  1.0000,  ..., -1.0000,  1.0000, -1.0000]],\n",
       "\n",
       "        ...,\n",
       "\n",
       "        [[-0.9966,  0.9999,  1.0000,  ..., -1.0000,  1.0000, -1.0000],\n",
       "         [-0.9964,  0.9999,  1.0000,  ..., -1.0000,  1.0000, -1.0000],\n",
       "         [-0.9969,  0.9999,  1.0000,  ..., -1.0000,  1.0000, -1.0000],\n",
       "         ...,\n",
       "         [-0.9966,  0.9999,  1.0000,  ..., -1.0000,  1.0000, -1.0000],\n",
       "         [-0.9966,  0.9999,  1.0000,  ..., -1.0000,  1.0000, -1.0000],\n",
       "         [-0.9969,  0.9999,  1.0000,  ..., -1.0000,  1.0000, -1.0000]],\n",
       "\n",
       "        [[-0.9988,  1.0000,  1.0000,  ..., -1.0000,  1.0000, -1.0000],\n",
       "         [-0.9989,  1.0000,  1.0000,  ..., -1.0000,  1.0000, -1.0000],\n",
       "         [-0.9988,  1.0000,  1.0000,  ..., -1.0000,  1.0000, -1.0000],\n",
       "         ...,\n",
       "         [-0.9988,  1.0000,  1.0000,  ..., -1.0000,  1.0000, -1.0000],\n",
       "         [-0.9989,  1.0000,  1.0000,  ..., -1.0000,  1.0000, -1.0000],\n",
       "         [-0.9988,  1.0000,  1.0000,  ..., -1.0000,  1.0000, -1.0000]],\n",
       "\n",
       "        [[-0.9988,  1.0000,  1.0000,  ..., -1.0000,  1.0000, -1.0000],\n",
       "         [-0.9989,  1.0000,  1.0000,  ..., -1.0000,  1.0000, -1.0000],\n",
       "         [-0.9988,  1.0000,  1.0000,  ..., -1.0000,  1.0000, -1.0000],\n",
       "         ...,\n",
       "         [-0.9988,  1.0000,  1.0000,  ..., -1.0000,  1.0000, -1.0000],\n",
       "         [-0.9989,  1.0000,  1.0000,  ..., -1.0000,  1.0000, -1.0000],\n",
       "         [-0.9988,  1.0000,  1.0000,  ..., -1.0000,  1.0000, -1.0000]]],\n",
       "       grad_fn=<TanhBackward0>)"
      ]
     },
     "execution_count": 256,
     "metadata": {},
     "output_type": "execute_result"
    }
   ],
   "source": [
    "tk_enc[2]"
   ]
  },
  {
   "cell_type": "code",
   "execution_count": null,
   "id": "fb199725-268d-4d87-937f-43fd4a115e46",
   "metadata": {},
   "outputs": [],
   "source": [
    "props_pred_net.forward(pred_tokens_encoding[-1])"
   ]
  },
  {
   "cell_type": "code",
   "execution_count": 218,
   "id": "61a6a86b-a7eb-4f47-8486-1c5c4c294eff",
   "metadata": {
    "tags": []
   },
   "outputs": [
    {
     "data": {
      "text/plain": [
       "{'props': 0.5347993969917297,\n",
       " 'props_mask': 0.28838661313056946,\n",
       " 'negative': 0.5254865884780884,\n",
       " 'negative_mask': 0.28304722905158997,\n",
       " 'positive_max': 0.0619039312005043,\n",
       " 'positive_max_mask': 0.032196398824453354,\n",
       " 'positive_sum': 1.6278681755065918,\n",
       " 'positive_sum_mask': 0.862717866897583,\n",
       " 'final': 0.1268056184053421}"
      ]
     },
     "execution_count": 218,
     "metadata": {},
     "output_type": "execute_result"
    }
   ],
   "source": [
    "losses_dict"
   ]
  },
  {
   "cell_type": "code",
   "execution_count": 189,
   "id": "1c1bcc5e-18bb-4ccb-919b-9714f8b8234b",
   "metadata": {},
   "outputs": [],
   "source": [
    "def train(data, token_enc_net, token_emb_net, main_net, meaning_pred_net, props_pred_net, \n",
    "          beta, cnt_negative, last_pred, \n",
    "          loss_coeff, prop_coef, negative_coef, max_coef, sum_coef, not_masked_coef, \n",
    "          default_batch_size, pad, mask, max_len, opt_type, learning_rate):\n",
    "\n",
    "    rows, _ = data.shape\n",
    "    indices = np.arange(rows)\n",
    "    losses_hist = []\n",
    "    \n",
    "    nets = [token_enc_net, token_emb_net, main_net, meaning_pred_net, props_pred_net]\n",
    "    \n",
    "    init_optims(nets, opt_type, learning_rate)\n",
    "    try:\n",
    "    # while True:\n",
    "        epoch_i = -1\n",
    "        while True: # Цикл по эпохам\n",
    "            epoch_i += 1\n",
    "            np.random.shuffle(indices) # Шафлим индексы, так как шафлить массив намного дольше\n",
    "            \n",
    "            for batch_i in range(int(rows / default_batch_size) + 1): # Цикл по батчам\n",
    "                batch_slice = slice(batch_i*default_batch_size, (batch_i+1)*default_batch_size)\n",
    "                batch_ids = indices[batch_slice]\n",
    "                if len(batch_ids) == 0:\n",
    "                    continue # Прошлись по всей выборке\n",
    "                \n",
    "                zero_grad(nets)\n",
    "                \n",
    "                batch = data[batch_ids,:] # Batch x SeqLen\n",
    "                losses_dict = process_batch(\n",
    "                    batch = batch, \n",
    "                    token_enc_net = token_enc_net, \n",
    "                    token_emb_net = token_emb_net,\n",
    "                    main_net = main_net,\n",
    "                    meaning_pred_net = meaning_pred_net,\n",
    "                    props_pred_net = props_pred_net,\n",
    "                    pad = pad, \n",
    "                    mask = mask,\n",
    "                    beta = beta, \n",
    "                    cnt_negative = cnt_negative,\n",
    "                    last_pred = last_pred,\n",
    "                    loss_coeff = loss_coeff,\n",
    "                    prop_coef = prop_coef,\n",
    "                    negative_coef = negative_coef,\n",
    "                    max_coef = max_coef,\n",
    "                    sum_coef = sum_coef,\n",
    "                    not_masked_coef = not_masked_coef,\n",
    "                    max_len = max_len\n",
    "                )\n",
    "                losses_hist.append(losses_dict)\n",
    "                if len(losses_hist) > 10000:\n",
    "                    losses_hist.pop(0)\n",
    "                \n",
    "                step_grad(nets)\n",
    "                print(f'Finish Batch {batch_i}')\n",
    "    except:\n",
    "        print('Stop Running.')\n",
    "        return losses_hist"
   ]
  },
  {
   "cell_type": "code",
   "execution_count": 190,
   "id": "3771c856-708b-4cdb-ad19-125f86847be0",
   "metadata": {},
   "outputs": [
    {
     "name": "stdout",
     "output_type": "stream",
     "text": [
      "Finish Batch 0\n",
      "Finish Batch 1\n",
      "Finish Batch 2\n",
      "Finish Batch 3\n",
      "Finish Batch 4\n",
      "Finish Batch 5\n",
      "Finish Batch 6\n",
      "Finish Batch 7\n",
      "Finish Batch 8\n",
      "Finish Batch 9\n",
      "Finish Batch 10\n",
      "Finish Batch 11\n",
      "Finish Batch 12\n",
      "Finish Batch 13\n",
      "Finish Batch 14\n",
      "Finish Batch 15\n",
      "Finish Batch 16\n",
      "Finish Batch 17\n",
      "Finish Batch 18\n",
      "Finish Batch 19\n",
      "Finish Batch 20\n",
      "Finish Batch 21\n",
      "Finish Batch 22\n",
      "Finish Batch 23\n",
      "Finish Batch 24\n",
      "Finish Batch 25\n",
      "Finish Batch 26\n",
      "Finish Batch 27\n",
      "Finish Batch 28\n",
      "Finish Batch 29\n",
      "Finish Batch 30\n",
      "Finish Batch 31\n",
      "Finish Batch 32\n",
      "Finish Batch 33\n",
      "Finish Batch 34\n",
      "Finish Batch 35\n",
      "Finish Batch 36\n",
      "Stop Running.\n"
     ]
    }
   ],
   "source": [
    "scores = train(\n",
    "    data = train_tokens, \n",
    "    token_enc_net = net_token_enc, \n",
    "    token_emb_net = token_embeding_net,\n",
    "    main_net = net_multi_blocks,\n",
    "    meaning_pred_net = meaning_pred_net,\n",
    "    props_pred_net = props_pred_net,\n",
    "    beta = BETA, \n",
    "    cnt_negative = CNT_NEGATIVE,\n",
    "    last_pred = LAST_PREDICT,\n",
    "    loss_coeff = LOSS_COEFF,\n",
    "    prop_coef = LOSS_PROPERTY_COEFF,\n",
    "    negative_coef = LOSS_NEGATIVE_COEF,\n",
    "    max_coef = LOSS_MAX_COEF,\n",
    "    sum_coef = LOSS_SUM_COEF,\n",
    "    not_masked_coef = NOT_MASKED_COEF,\n",
    "    default_batch_size=64,\n",
    "    pad = PAD_ID,\n",
    "    mask = MASK_ID,\n",
    "    max_len= 30,\n",
    "    learning_rate = 0.01,\n",
    "    opt_type='Adam'\n",
    ")"
   ]
  },
  {
   "cell_type": "markdown",
   "id": "5625797f-624f-450b-a790-08e7c82559ee",
   "metadata": {},
   "source": [
    "# TODO\n",
    "1) Создать базу длинной в 1024 токена\n",
    "2) Проверить корректность лоссов на батче"
   ]
  },
  {
   "cell_type": "code",
   "execution_count": 193,
   "id": "96c16796-ce57-4f97-bda1-ee72fcee40f7",
   "metadata": {},
   "outputs": [
    {
     "data": {
      "text/plain": [
       "dict_keys(['props', 'props_mask', 'negative', 'negative_mask', 'positive_max', 'positive_max_mask', 'positive_sum', 'positive_sum_mask', 'final'])"
      ]
     },
     "execution_count": 193,
     "metadata": {},
     "output_type": "execute_result"
    }
   ],
   "source": [
    "scores[0].keys()"
   ]
  },
  {
   "cell_type": "code",
   "execution_count": 192,
   "id": "04ca23bc-9f5c-4785-8a44-b2002c6c5f0a",
   "metadata": {},
   "outputs": [
    {
     "data": {
      "text/plain": [
       "[<matplotlib.lines.Line2D at 0x7faafa99f5b0>]"
      ]
     },
     "execution_count": 192,
     "metadata": {},
     "output_type": "execute_result"
    },
    {
     "data": {
      "image/png": "[encoded data removed]",
      "text/plain": [
       "<Figure size 432x288 with 1 Axes>"
      ]
     },
     "metadata": {
      "needs_background": "light"
     },
     "output_type": "display_data"
    }
   ],
   "source": [
    "plt.plot([ll['props'] for ll in scores])"
   ]
  },
  {
   "cell_type": "code",
   "execution_count": 194,
   "id": "56360ff4-6489-41cc-a52f-25651c5bdb72",
   "metadata": {},
   "outputs": [
    {
     "data": {
      "text/plain": [
       "[<matplotlib.lines.Line2D at 0x7fab05473cd0>]"
      ]
     },
     "execution_count": 194,
     "metadata": {},
     "output_type": "execute_result"
    },
    {
     "data": {
      "image/png": "[encoded data removed]",
      "text/plain": [
       "<Figure size 432x288 with 1 Axes>"
      ]
     },
     "metadata": {
      "needs_background": "light"
     },
     "output_type": "display_data"
    }
   ],
   "source": [
    "plt.plot([ll['props_mask'] for ll in scores])"
   ]
  },
  {
   "cell_type": "code",
   "execution_count": 195,
   "id": "400bd1fd-9410-4b9b-b161-6296171ec58c",
   "metadata": {},
   "outputs": [
    {
     "data": {
      "text/plain": [
       "[<matplotlib.lines.Line2D at 0x7faafa7c10d0>]"
      ]
     },
     "execution_count": 195,
     "metadata": {},
     "output_type": "execute_result"
    },
    {
     "data": {
      "image/png": "[encoded data removed]",
      "text/plain": [
       "<Figure size 432x288 with 1 Axes>"
      ]
     },
     "metadata": {
      "needs_background": "light"
     },
     "output_type": "display_data"
    }
   ],
   "source": [
    "plt.plot([ll['negative'] for ll in scores])"
   ]
  },
  {
   "cell_type": "code",
   "execution_count": 196,
   "id": "55568138-c349-4d82-ab3e-dea7c408dcd4",
   "metadata": {},
   "outputs": [
    {
     "data": {
      "text/plain": [
       "[<matplotlib.lines.Line2D at 0x7faafa8bd7c0>]"
      ]
     },
     "execution_count": 196,
     "metadata": {},
     "output_type": "execute_result"
    },
    {
     "data": {
      "image/png": "[encoded data removed]",
      "text/plain": [
       "<Figure size 432x288 with 1 Axes>"
      ]
     },
     "metadata": {
      "needs_background": "light"
     },
     "output_type": "display_data"
    }
   ],
   "source": [
    "plt.plot([ll['negative_mask'] for ll in scores])"
   ]
  },
  {
   "cell_type": "code",
   "execution_count": 197,
   "id": "bd3c3cc7-acee-40c5-9800-406553947be6",
   "metadata": {},
   "outputs": [
    {
     "data": {
      "text/plain": [
       "[<matplotlib.lines.Line2D at 0x7faafcd596a0>]"
      ]
     },
     "execution_count": 197,
     "metadata": {},
     "output_type": "execute_result"
    },
    {
     "data": {
      "image/png": "[encoded data removed]",
      "text/plain": [
       "<Figure size 432x288 with 1 Axes>"
      ]
     },
     "metadata": {
      "needs_background": "light"
     },
     "output_type": "display_data"
    }
   ],
   "source": [
    "plt.plot([ll['positive_max'] for ll in scores])"
   ]
  },
  {
   "cell_type": "code",
   "execution_count": 198,
   "id": "8fc9ffdb-4e92-4ed4-9231-db44082ebbfa",
   "metadata": {},
   "outputs": [
    {
     "data": {
      "text/plain": [
       "[<matplotlib.lines.Line2D at 0x7faafe0a6940>]"
      ]
     },
     "execution_count": 198,
     "metadata": {},
     "output_type": "execute_result"
    },
    {
     "data": {
      "image/png": "[encoded data removed]",
      "text/plain": [
       "<Figure size 432x288 with 1 Axes>"
      ]
     },
     "metadata": {
      "needs_background": "light"
     },
     "output_type": "display_data"
    }
   ],
   "source": [
    "plt.plot([ll['positive_sum'] for ll in scores])"
   ]
  },
  {
   "cell_type": "code",
   "execution_count": 199,
   "id": "c2070d87-8622-4778-ad88-f252d5b2c3b1",
   "metadata": {},
   "outputs": [
    {
     "data": {
      "text/plain": [
       "[<matplotlib.lines.Line2D at 0x7faafe1883a0>]"
      ]
     },
     "execution_count": 199,
     "metadata": {},
     "output_type": "execute_result"
    },
    {
     "data": {
      "image/png": "[encoded data removed]",
      "text/plain": [
       "<Figure size 432x288 with 1 Axes>"
      ]
     },
     "metadata": {
      "needs_background": "light"
     },
     "output_type": "display_data"
    }
   ],
   "source": [
    "plt.plot([ll['final'] for ll in scores])"
   ]
  },
  {
   "cell_type": "code",
   "execution_count": null,
   "id": "01cffb31-8ce9-4c25-bc2f-303996883ffc",
   "metadata": {},
   "outputs": [],
   "source": [
    "final"
   ]
  },
  {
   "cell_type": "code",
   "execution_count": null,
   "id": "fe65eef6-3a38-445a-8ff8-1465f4f20fba",
   "metadata": {},
   "outputs": [],
   "source": []
  },
  {
   "cell_type": "code",
   "execution_count": null,
   "id": "96113b0a-1bf5-46c4-8cfb-72d3d06fa408",
   "metadata": {},
   "outputs": [],
   "source": []
  },
  {
   "cell_type": "markdown",
   "id": "b94992c5-2c70-4507-ac60-e7a597802806",
   "metadata": {},
   "source": [
    "### Properties Loss"
   ]
  },
  {
   "cell_type": "code",
   "execution_count": null,
   "id": "834a44b8-5ed1-4273-9921-ab7071a6ca91",
   "metadata": {},
   "outputs": [
    {
     "data": {
      "text/plain": [
       "(0.21114865571260452, 0.09845495611429214)"
      ]
     },
     "execution_count": 245,
     "metadata": {},
     "output_type": "execute_result"
    }
   ],
   "source": [
    "np.mean(hist_props[-100:]), np.mean(hist_props_mask[-100:])\n",
    "# (0.21114865571260452, 0.09845495611429214)"
   ]
  },
  {
   "cell_type": "code",
   "execution_count": 216,
   "id": "6914211b-76f1-42d5-836c-6514944e86f0",
   "metadata": {},
   "outputs": [
    {
     "data": {
      "text/plain": [
       "[<matplotlib.lines.Line2D at 0x7f8d837a9400>]"
      ]
     },
     "execution_count": 216,
     "metadata": {},
     "output_type": "execute_result"
    },
    {
     "data": {
      "image/png": "[encoded data removed]",
      "text/plain": [
       "<Figure size 432x288 with 1 Axes>"
      ]
     },
     "metadata": {
      "needs_background": "light"
     },
     "output_type": "display_data"
    }
   ],
   "source": [
    "plt.plot(hist_props)"
   ]
  },
  {
   "cell_type": "code",
   "execution_count": 217,
   "id": "6ad8e0e8-1f41-457a-a145-f88bbfa63da7",
   "metadata": {},
   "outputs": [
    {
     "data": {
      "text/plain": [
       "[<matplotlib.lines.Line2D at 0x7f8e8b8f5ac0>]"
      ]
     },
     "execution_count": 217,
     "metadata": {},
     "output_type": "execute_result"
    },
    {
     "data": {
      "image/png": "[encoded data removed]",
      "text/plain": [
       "<Figure size 432x288 with 1 Axes>"
      ]
     },
     "metadata": {
      "needs_background": "light"
     },
     "output_type": "display_data"
    }
   ],
   "source": [
    "plt.plot(hist_props_mask)"
   ]
  },
  {
   "cell_type": "markdown",
   "id": "8ddd7671-b55d-491d-95e6-31bc66e51033",
   "metadata": {},
   "source": [
    "### Negative Loss"
   ]
  },
  {
   "cell_type": "code",
   "execution_count": 246,
   "id": "995589cc-1a14-4b57-b1ab-8c68478f6e97",
   "metadata": {},
   "outputs": [
    {
     "data": {
      "text/plain": [
       "(0.20501402899622917, 0.10580503925681115)"
      ]
     },
     "execution_count": 246,
     "metadata": {},
     "output_type": "execute_result"
    }
   ],
   "source": [
    "np.mean(hist_neg[-100:]), np.mean(hist_neg_mask[-100:])\n",
    "# (0.20501402899622917, 0.10580503925681115)"
   ]
  },
  {
   "cell_type": "code",
   "execution_count": 219,
   "id": "8208a97f-57ea-4665-88c7-e9124f7e8f65",
   "metadata": {},
   "outputs": [
    {
     "data": {
      "text/plain": [
       "[<matplotlib.lines.Line2D at 0x7f8d69bc5e80>]"
      ]
     },
     "execution_count": 219,
     "metadata": {},
     "output_type": "execute_result"
    },
    {
     "data": {
      "image/png": "[encoded data removed]",
      "text/plain": [
       "<Figure size 432x288 with 1 Axes>"
      ]
     },
     "metadata": {
      "needs_background": "light"
     },
     "output_type": "display_data"
    }
   ],
   "source": [
    "plt.plot(hist_neg)"
   ]
  },
  {
   "cell_type": "code",
   "execution_count": 220,
   "id": "475c13fe-b640-4be2-9cf4-5a49bf3c3d87",
   "metadata": {},
   "outputs": [
    {
     "data": {
      "text/plain": [
       "[<matplotlib.lines.Line2D at 0x7f8dbce2c970>]"
      ]
     },
     "execution_count": 220,
     "metadata": {},
     "output_type": "execute_result"
    },
    {
     "data": {
      "image/png": "[encoded data removed]",
      "text/plain": [
       "<Figure size 432x288 with 1 Axes>"
      ]
     },
     "metadata": {
      "needs_background": "light"
     },
     "output_type": "display_data"
    }
   ],
   "source": [
    "plt.plot(hist_neg_mask)"
   ]
  },
  {
   "cell_type": "markdown",
   "id": "d344974e-ad9a-4250-94cf-60ab93c5b290",
   "metadata": {},
   "source": [
    "### Positive Loss Max"
   ]
  },
  {
   "cell_type": "code",
   "execution_count": 247,
   "id": "99c9b2a8-e758-444e-ae4a-827fa9af029e",
   "metadata": {},
   "outputs": [
    {
     "data": {
      "text/plain": [
       "(0.4600797155499458, 0.2261306744813919)"
      ]
     },
     "execution_count": 247,
     "metadata": {},
     "output_type": "execute_result"
    }
   ],
   "source": [
    "np.mean(hist_pos_max[-100:]), np.mean(hist_pos_max_mask[-100:])\n",
    "# (0.4600797155499458, 0.2261306744813919)"
   ]
  },
  {
   "cell_type": "code",
   "execution_count": 230,
   "id": "e9241d9c-b3ff-478a-9c11-efbb9ee49152",
   "metadata": {},
   "outputs": [
    {
     "data": {
      "text/plain": [
       "0.954970091099813"
      ]
     },
     "execution_count": 230,
     "metadata": {},
     "output_type": "execute_result"
    }
   ],
   "source": [
    "np.exp(-0.0460752572119236)"
   ]
  },
  {
   "cell_type": "code",
   "execution_count": 222,
   "id": "595c508a-eb25-4fbf-8e29-970bd148bd39",
   "metadata": {},
   "outputs": [
    {
     "data": {
      "text/plain": [
       "[<matplotlib.lines.Line2D at 0x7f8dc9622760>]"
      ]
     },
     "execution_count": 222,
     "metadata": {},
     "output_type": "execute_result"
    },
    {
     "data": {
      "image/png": "[encoded data removed]",
      "text/plain": [
       "<Figure size 432x288 with 1 Axes>"
      ]
     },
     "metadata": {
      "needs_background": "light"
     },
     "output_type": "display_data"
    }
   ],
   "source": [
    "plt.plot(hist_pos_max)"
   ]
  },
  {
   "cell_type": "code",
   "execution_count": 223,
   "id": "a0d890d4-8d7e-41f1-9ea8-a2432a8b2181",
   "metadata": {},
   "outputs": [
    {
     "data": {
      "text/plain": [
       "[<matplotlib.lines.Line2D at 0x7f8dd3f619a0>]"
      ]
     },
     "execution_count": 223,
     "metadata": {},
     "output_type": "execute_result"
    },
    {
     "data": {
      "image/png": "[encoded data removed]",
      "text/plain": [
       "<Figure size 432x288 with 1 Axes>"
      ]
     },
     "metadata": {
      "needs_background": "light"
     },
     "output_type": "display_data"
    }
   ],
   "source": [
    "plt.plot(hist_pos_max_mask)"
   ]
  },
  {
   "cell_type": "markdown",
   "id": "e8ebd927-828c-4b7b-bac9-4fea485222da",
   "metadata": {},
   "source": [
    "### Positive Loss Sum"
   ]
  },
  {
   "cell_type": "code",
   "execution_count": 248,
   "id": "140a4193-e304-4693-ac23-81204682cb92",
   "metadata": {},
   "outputs": [
    {
     "data": {
      "text/plain": [
       "(3.148419915437698, 1.5483793020248413)"
      ]
     },
     "execution_count": 248,
     "metadata": {},
     "output_type": "execute_result"
    }
   ],
   "source": [
    "np.mean(hist_pos_sum[-100:]), np.mean(hist_pos_sum_mask[-100:])\n",
    "# (0.8464707934856415, 0.42983739733695986)\n",
    "# (0.330911158323288, 0.1758657532930374)\n",
    "# (0.40180815547704696, 0.21392257496714592)\n",
    "# (3.148419915437698, 1.5483793020248413)"
   ]
  },
  {
   "cell_type": "code",
   "execution_count": 193,
   "id": "de3aa346-dbc7-42e7-b2fb-70edf630bae9",
   "metadata": {},
   "outputs": [
    {
     "data": {
      "text/plain": [
       "0.6555913361233505"
      ]
     },
     "execution_count": 193,
     "metadata": {},
     "output_type": "execute_result"
    }
   ],
   "source": [
    "np.sqrt(0.4298)"
   ]
  },
  {
   "cell_type": "code",
   "execution_count": 225,
   "id": "fb38ec31-848b-4bd6-ad7b-0887890084a4",
   "metadata": {},
   "outputs": [
    {
     "data": {
      "text/plain": [
       "[<matplotlib.lines.Line2D at 0x7f8dc9c01b50>]"
      ]
     },
     "execution_count": 225,
     "metadata": {},
     "output_type": "execute_result"
    },
    {
     "data": {
      "image/png": "[encoded data removed]",
      "text/plain": [
       "<Figure size 432x288 with 1 Axes>"
      ]
     },
     "metadata": {
      "needs_background": "light"
     },
     "output_type": "display_data"
    }
   ],
   "source": [
    "plt.plot(hist_pos_sum)"
   ]
  },
  {
   "cell_type": "code",
   "execution_count": 226,
   "id": "9f1b576b-2414-429e-8ce0-ae00fb12a1e3",
   "metadata": {},
   "outputs": [
    {
     "data": {
      "text/plain": [
       "[<matplotlib.lines.Line2D at 0x7f8dd4182a60>]"
      ]
     },
     "execution_count": 226,
     "metadata": {},
     "output_type": "execute_result"
    },
    {
     "data": {
      "image/png": "[encoded data removed]",
      "text/plain": [
       "<Figure size 432x288 with 1 Axes>"
      ]
     },
     "metadata": {
      "needs_background": "light"
     },
     "output_type": "display_data"
    }
   ],
   "source": [
    "plt.plot(hist_pos_sum_mask)"
   ]
  },
  {
   "cell_type": "code",
   "execution_count": null,
   "id": "b4b68702-3c5f-43c6-b673-61c212fc831b",
   "metadata": {},
   "outputs": [],
   "source": []
  },
  {
   "cell_type": "code",
   "execution_count": null,
   "id": "7b81c9eb-59f5-4943-a23e-f22a53cd4e3d",
   "metadata": {},
   "outputs": [],
   "source": []
  },
  {
   "cell_type": "markdown",
   "id": "45e1ade9-862e-40ec-a260-2de141d4c130",
   "metadata": {
    "jp-MarkdownHeadingCollapsed": true,
    "tags": []
   },
   "source": [
    "# Arhitecture"
   ]
  },
  {
   "cell_type": "markdown",
   "id": "f8f12923-9fbc-4713-8a46-e3a72c984d9c",
   "metadata": {},
   "source": [
    "#### Примерный план\n",
    "1) Каким то образом получаем батч из числовых последовательностей токенов = [Batch_Size, MAX_SEQ_LEN]\n",
    "2) Определяем конец батча\n",
    "3) Определяем целевой токен для каждой строки батча\n",
    "    Получаем следующие данные W0 = [Enc_Pos_0, Token_0], W_Other = [Enc_Pos, Token]\n",
    "4) Рандомом из батча выбираем где мы будем учитывать \n",
    "\n",
    "\n",
    "Рассмотрим на примере одного \"предложения\".\n",
    "Предложение -> Tokens -> Seq (Seq_length может быть не равна MAX_SEQ_LEN)\n",
    "Строим матрицу Seq_Tokens = [Seq] * Seq_length.\n",
    "Так же берем матрицу расстояний = [MAX_SEQ_LEN, MAX_SEQ_LEN, POS_EMB_SIZE]\n",
    "Из нее извлекаем подматрицу Seq_Pos = [Seq_length, Seq_length, POS_EMB_SIZE]\n",
    "\n",
    "Получается две матрицы - Seq_Tokens и Seq_Pos\n",
    "Выбираем целевое слово, точнее его порядковый номер.\n",
    "Перемещаем"
   ]
  },
  {
   "cell_type": "code",
   "execution_count": null,
   "id": "cc94eb2f-778e-40ca-8961-02bcc373d2a9",
   "metadata": {},
   "outputs": [],
   "source": [
    "0"
   ]
  },
  {
   "cell_type": "markdown",
   "id": "0a89ab45-c477-4492-aa81-a33b4a92e920",
   "metadata": {},
   "source": [
    "Можно так же подавать неправильные токены в последовательность, с целью чтоб они все равно предсказывали верные.\n"
   ]
  },
  {
   "cell_type": "code",
   "execution_count": null,
   "id": "f18fb676-da1f-40b9-a81f-bdba88229de6",
   "metadata": {},
   "outputs": [],
   "source": [
    "input_seq = [token_0, token_1, token_2, token_3]\n",
    "all_seq = [\n",
    "    [token_0, token_1, token_2, token_3],\n",
    "    [mask, token_1, token_2, token_3],\n",
    "    [token_0, mask, token_2, token_3],\n",
    "    [token_0, token_1, mask, token_3],\n",
    "    [token_0, token_1, token_2, mask],\n",
    "]\n",
    "\n",
    "for seq in all_seq:\n",
    "    seq_emb = []\n",
    "    mask_pos = get_mask_pos(seq)\n",
    "    \n",
    "    \n",
    "    for token_pos, token in enumerate(seq):\n",
    "        if token != '[MASK]':\n",
    "            token_info = []\n",
    "            pos_emb = get_pos_encoding(token_pos, mask_pos)\n",
    "            for cat in range(CNT_CATS):\n",
    "                emb_meanings = get_emb(token, cat) # Cnt_Meanings x Emb_Size\n",
    "                cat_emb = CATS[cat]\n",
    "                for m in range(Cnt_Meanings):\n",
    "                    token_info.append(torch.cat([pos_emb, cat_emb, emb_meaning]))\n",
    "                    \n",
    "            token_info = torch.cat(token_info) # Большой тензор, в котором заенкожена вся информация по токену\n",
    "            seq_emb.append(token_info)\n",
    "        \n",
    "    "
   ]
  },
  {
   "cell_type": "code",
   "execution_count": null,
   "id": "eaf4db3e-009f-4ac7-b834-151436408779",
   "metadata": {},
   "outputs": [],
   "source": [
    "pos_encod_matrix = gen_pos_encodind(MAX_LEN_SEQ)\n",
    "input_seq = [token_0, token_1, token_2, token_3]\n",
    "seq_emb = []\n",
    "\n",
    "for token_pos, token in enumerate(seq):\n",
    "    token_info = []\n",
    "    pos_emb = get_pos_encoding(token_pos, mask_pos)\n",
    "    for cat in range(CNT_CATS):\n",
    "        emb_meanings = get_emb(token, cat) # Cnt_Meanings x Emb_Size\n",
    "        cat_emb = CATS[cat]\n",
    "        for m in range(Cnt_Meanings):\n",
    "            token_info.append(torch.cat([pos_emb, cat_emb, emb_meaning]))\n",
    "\n",
    "    token_info = torch.cat(token_info) # Большой тензор, в котором заенкожена вся информация по токену\n",
    "    seq_emb.append(token_info)\n",
    "    \n",
    "\n",
    "variant = choose_variant() # Выбираеем вариант\n",
    "\n",
    "# Кличество вариаций обработки одной последовательности:\n",
    "# 1) Изменяем какое-либо слова:\n",
    "#      N вариантов выбрать изменяемое слово в последовательности.\n",
    "#      N вариантов выбрать целевое слово в последовательности.\n",
    "#      N^2 вариантов, если мы еще добавим опцию опускать(маскировать) ли целевое слово во время агрегации то 2 * N^2\n",
    "# 2) Не изменяем слова в последовательности:\n",
    "#      N вариантов выбрать целевое слово.\n",
    "#      2 - опускаем или нет целевое слово при аггрегации\n",
    "#"
   ]
  },
  {
   "cell_type": "code",
   "execution_count": null,
   "id": "50be1093-07a8-49f8-a7e1-06c5be7b2eae",
   "metadata": {},
   "outputs": [],
   "source": []
  },
  {
   "cell_type": "code",
   "execution_count": null,
   "id": "ad555dc3-3006-4ae8-b065-e3edc7a00115",
   "metadata": {},
   "outputs": [],
   "source": []
  },
  {
   "cell_type": "code",
   "execution_count": null,
   "id": "df8dcb63-60a4-4f71-b508-c6ecb0d89a08",
   "metadata": {},
   "outputs": [],
   "source": []
  },
  {
   "cell_type": "code",
   "execution_count": null,
   "id": "231d359c-dff0-4ae4-baa3-ddaf22d2acd7",
   "metadata": {},
   "outputs": [],
   "source": []
  },
  {
   "cell_type": "code",
   "execution_count": null,
   "id": "d072cbea-163e-409d-a087-f13af5efce19",
   "metadata": {},
   "outputs": [],
   "source": []
  },
  {
   "cell_type": "code",
   "execution_count": null,
   "id": "9b8f38dd-7771-4686-a967-9a2cf7ef7317",
   "metadata": {},
   "outputs": [],
   "source": []
  },
  {
   "cell_type": "code",
   "execution_count": null,
   "id": "c5728e85-0b93-4f59-8efc-265d9ff14da5",
   "metadata": {},
   "outputs": [],
   "source": []
  },
  {
   "cell_type": "code",
   "execution_count": null,
   "id": "eb213974-c4e9-4fa8-8a8f-6832c3db3958",
   "metadata": {},
   "outputs": [],
   "source": []
  },
  {
   "cell_type": "code",
   "execution_count": null,
   "id": "04ded5a5-b823-4842-9f45-b700ef2bb2f7",
   "metadata": {},
   "outputs": [],
   "source": []
  }
 ],
 "metadata": {
  "kernelspec": {
   "display_name": "Python (myenv)",
   "language": "python",
   "name": "myenv"
  },
  "language_info": {
   "codemirror_mode": {
    "name": "ipython",
    "version": 3
   },
   "file_extension": ".py",
   "mimetype": "text/x-python",
   "name": "python",
   "nbconvert_exporter": "python",
   "pygments_lexer": "ipython3",
   "version": "3.9.6"
  }
 },
 "nbformat": 4,
 "nbformat_minor": 5
}
